{
 "cells": [
  {
   "cell_type": "code",
   "execution_count": 222,
   "metadata": {},
   "outputs": [],
   "source": [
    "# Enable Intellisense\n",
    "%config IPCompleter.greedy=True"
   ]
  },
  {
   "cell_type": "markdown",
   "metadata": {},
   "source": [
    "### Note\n",
    "* Instructions have been included for each segment. You do not have to follow them exactly, but they are included to help you think through the steps."
   ]
  },
  {
   "cell_type": "markdown",
   "metadata": {},
   "source": [
    "## District Summary\n",
    "\n",
    "* Calculate the total number of schools\n",
    "\n",
    "* Calculate the total number of students\n",
    "\n",
    "* Calculate the total budget\n",
    "\n",
    "* Calculate the average math score \n",
    "\n",
    "* Calculate the average reading score\n",
    "\n",
    "* Calculate the percentage of students with a passing math score (70 or greater)\n",
    "\n",
    "* Calculate the percentage of students with a passing reading score (70 or greater)\n",
    "\n",
    "* Calculate the percentage of students who passed math **and** reading (% Overall Passing)\n",
    "\n",
    "* Create a dataframe to hold the above results\n",
    "\n",
    "* Optional: give the displayed data cleaner formatting"
   ]
  },
  {
   "cell_type": "code",
   "execution_count": 223,
   "metadata": {
    "scrolled": true
   },
   "outputs": [
    {
     "data": {
      "text/html": [
       "<div>\n",
       "<style scoped>\n",
       "    .dataframe tbody tr th:only-of-type {\n",
       "        vertical-align: middle;\n",
       "    }\n",
       "\n",
       "    .dataframe tbody tr th {\n",
       "        vertical-align: top;\n",
       "    }\n",
       "\n",
       "    .dataframe thead th {\n",
       "        text-align: right;\n",
       "    }\n",
       "</style>\n",
       "<table border=\"1\" class=\"dataframe\">\n",
       "  <thead>\n",
       "    <tr style=\"text-align: right;\">\n",
       "      <th></th>\n",
       "      <th>Student ID</th>\n",
       "      <th>student_name</th>\n",
       "      <th>gender</th>\n",
       "      <th>grade</th>\n",
       "      <th>school_name</th>\n",
       "      <th>reading_score</th>\n",
       "      <th>math_score</th>\n",
       "      <th>School ID</th>\n",
       "      <th>type</th>\n",
       "      <th>size</th>\n",
       "      <th>budget</th>\n",
       "    </tr>\n",
       "  </thead>\n",
       "  <tbody>\n",
       "    <tr>\n",
       "      <th>0</th>\n",
       "      <td>0</td>\n",
       "      <td>Paul Bradley</td>\n",
       "      <td>M</td>\n",
       "      <td>9th</td>\n",
       "      <td>Huang High School</td>\n",
       "      <td>66</td>\n",
       "      <td>79</td>\n",
       "      <td>0</td>\n",
       "      <td>District</td>\n",
       "      <td>2917</td>\n",
       "      <td>1910635</td>\n",
       "    </tr>\n",
       "    <tr>\n",
       "      <th>1</th>\n",
       "      <td>1</td>\n",
       "      <td>Victor Smith</td>\n",
       "      <td>M</td>\n",
       "      <td>12th</td>\n",
       "      <td>Huang High School</td>\n",
       "      <td>94</td>\n",
       "      <td>61</td>\n",
       "      <td>0</td>\n",
       "      <td>District</td>\n",
       "      <td>2917</td>\n",
       "      <td>1910635</td>\n",
       "    </tr>\n",
       "    <tr>\n",
       "      <th>2</th>\n",
       "      <td>2</td>\n",
       "      <td>Kevin Rodriguez</td>\n",
       "      <td>M</td>\n",
       "      <td>12th</td>\n",
       "      <td>Huang High School</td>\n",
       "      <td>90</td>\n",
       "      <td>60</td>\n",
       "      <td>0</td>\n",
       "      <td>District</td>\n",
       "      <td>2917</td>\n",
       "      <td>1910635</td>\n",
       "    </tr>\n",
       "    <tr>\n",
       "      <th>3</th>\n",
       "      <td>3</td>\n",
       "      <td>Dr. Richard Scott</td>\n",
       "      <td>M</td>\n",
       "      <td>12th</td>\n",
       "      <td>Huang High School</td>\n",
       "      <td>67</td>\n",
       "      <td>58</td>\n",
       "      <td>0</td>\n",
       "      <td>District</td>\n",
       "      <td>2917</td>\n",
       "      <td>1910635</td>\n",
       "    </tr>\n",
       "    <tr>\n",
       "      <th>4</th>\n",
       "      <td>4</td>\n",
       "      <td>Bonnie Ray</td>\n",
       "      <td>F</td>\n",
       "      <td>9th</td>\n",
       "      <td>Huang High School</td>\n",
       "      <td>97</td>\n",
       "      <td>84</td>\n",
       "      <td>0</td>\n",
       "      <td>District</td>\n",
       "      <td>2917</td>\n",
       "      <td>1910635</td>\n",
       "    </tr>\n",
       "    <tr>\n",
       "      <th>...</th>\n",
       "      <td>...</td>\n",
       "      <td>...</td>\n",
       "      <td>...</td>\n",
       "      <td>...</td>\n",
       "      <td>...</td>\n",
       "      <td>...</td>\n",
       "      <td>...</td>\n",
       "      <td>...</td>\n",
       "      <td>...</td>\n",
       "      <td>...</td>\n",
       "      <td>...</td>\n",
       "    </tr>\n",
       "    <tr>\n",
       "      <th>39165</th>\n",
       "      <td>39165</td>\n",
       "      <td>Donna Howard</td>\n",
       "      <td>F</td>\n",
       "      <td>12th</td>\n",
       "      <td>Thomas High School</td>\n",
       "      <td>99</td>\n",
       "      <td>90</td>\n",
       "      <td>14</td>\n",
       "      <td>Charter</td>\n",
       "      <td>1635</td>\n",
       "      <td>1043130</td>\n",
       "    </tr>\n",
       "    <tr>\n",
       "      <th>39166</th>\n",
       "      <td>39166</td>\n",
       "      <td>Dawn Bell</td>\n",
       "      <td>F</td>\n",
       "      <td>10th</td>\n",
       "      <td>Thomas High School</td>\n",
       "      <td>95</td>\n",
       "      <td>70</td>\n",
       "      <td>14</td>\n",
       "      <td>Charter</td>\n",
       "      <td>1635</td>\n",
       "      <td>1043130</td>\n",
       "    </tr>\n",
       "    <tr>\n",
       "      <th>39167</th>\n",
       "      <td>39167</td>\n",
       "      <td>Rebecca Tanner</td>\n",
       "      <td>F</td>\n",
       "      <td>9th</td>\n",
       "      <td>Thomas High School</td>\n",
       "      <td>73</td>\n",
       "      <td>84</td>\n",
       "      <td>14</td>\n",
       "      <td>Charter</td>\n",
       "      <td>1635</td>\n",
       "      <td>1043130</td>\n",
       "    </tr>\n",
       "    <tr>\n",
       "      <th>39168</th>\n",
       "      <td>39168</td>\n",
       "      <td>Desiree Kidd</td>\n",
       "      <td>F</td>\n",
       "      <td>10th</td>\n",
       "      <td>Thomas High School</td>\n",
       "      <td>99</td>\n",
       "      <td>90</td>\n",
       "      <td>14</td>\n",
       "      <td>Charter</td>\n",
       "      <td>1635</td>\n",
       "      <td>1043130</td>\n",
       "    </tr>\n",
       "    <tr>\n",
       "      <th>39169</th>\n",
       "      <td>39169</td>\n",
       "      <td>Carolyn Jackson</td>\n",
       "      <td>F</td>\n",
       "      <td>11th</td>\n",
       "      <td>Thomas High School</td>\n",
       "      <td>95</td>\n",
       "      <td>75</td>\n",
       "      <td>14</td>\n",
       "      <td>Charter</td>\n",
       "      <td>1635</td>\n",
       "      <td>1043130</td>\n",
       "    </tr>\n",
       "  </tbody>\n",
       "</table>\n",
       "<p>39170 rows × 11 columns</p>\n",
       "</div>"
      ],
      "text/plain": [
       "       Student ID       student_name gender grade         school_name  \\\n",
       "0               0       Paul Bradley      M   9th   Huang High School   \n",
       "1               1       Victor Smith      M  12th   Huang High School   \n",
       "2               2    Kevin Rodriguez      M  12th   Huang High School   \n",
       "3               3  Dr. Richard Scott      M  12th   Huang High School   \n",
       "4               4         Bonnie Ray      F   9th   Huang High School   \n",
       "...           ...                ...    ...   ...                 ...   \n",
       "39165       39165       Donna Howard      F  12th  Thomas High School   \n",
       "39166       39166          Dawn Bell      F  10th  Thomas High School   \n",
       "39167       39167     Rebecca Tanner      F   9th  Thomas High School   \n",
       "39168       39168       Desiree Kidd      F  10th  Thomas High School   \n",
       "39169       39169    Carolyn Jackson      F  11th  Thomas High School   \n",
       "\n",
       "       reading_score  math_score  School ID      type  size   budget  \n",
       "0                 66          79          0  District  2917  1910635  \n",
       "1                 94          61          0  District  2917  1910635  \n",
       "2                 90          60          0  District  2917  1910635  \n",
       "3                 67          58          0  District  2917  1910635  \n",
       "4                 97          84          0  District  2917  1910635  \n",
       "...              ...         ...        ...       ...   ...      ...  \n",
       "39165             99          90         14   Charter  1635  1043130  \n",
       "39166             95          70         14   Charter  1635  1043130  \n",
       "39167             73          84         14   Charter  1635  1043130  \n",
       "39168             99          90         14   Charter  1635  1043130  \n",
       "39169             95          75         14   Charter  1635  1043130  \n",
       "\n",
       "[39170 rows x 11 columns]"
      ]
     },
     "execution_count": 223,
     "metadata": {},
     "output_type": "execute_result"
    }
   ],
   "source": [
    "# Dependencies and Setup\n",
    "import pandas as pd\n",
    "\n",
    "# File to Load\n",
    "school_data_to_load = \"Resources/schools_complete.csv\"\n",
    "student_data_to_load = \"Resources/students_complete.csv\"\n",
    "\n",
    "# Read School and Student Data File and store into Pandas DataFrames\n",
    "school_data = pd.read_csv(school_data_to_load)\n",
    "student_data = pd.read_csv(student_data_to_load)\n",
    "\n",
    "# Combine the data into a single dataset.  \n",
    "df = pd.merge(student_data, school_data, how=\"left\", on=[\"school_name\", \"school_name\"])\n",
    "df"
   ]
  },
  {
   "cell_type": "code",
   "execution_count": 224,
   "metadata": {},
   "outputs": [
    {
     "data": {
      "text/html": [
       "<div>\n",
       "<style scoped>\n",
       "    .dataframe tbody tr th:only-of-type {\n",
       "        vertical-align: middle;\n",
       "    }\n",
       "\n",
       "    .dataframe tbody tr th {\n",
       "        vertical-align: top;\n",
       "    }\n",
       "\n",
       "    .dataframe thead th {\n",
       "        text-align: right;\n",
       "    }\n",
       "</style>\n",
       "<table border=\"1\" class=\"dataframe\">\n",
       "  <thead>\n",
       "    <tr style=\"text-align: right;\">\n",
       "      <th></th>\n",
       "      <th>student_id</th>\n",
       "      <th>student_name</th>\n",
       "      <th>gender</th>\n",
       "      <th>grade</th>\n",
       "      <th>school_name</th>\n",
       "      <th>reading_score</th>\n",
       "      <th>math_score</th>\n",
       "      <th>school_id</th>\n",
       "      <th>type</th>\n",
       "      <th>size</th>\n",
       "      <th>budget</th>\n",
       "    </tr>\n",
       "  </thead>\n",
       "  <tbody>\n",
       "    <tr>\n",
       "      <th>0</th>\n",
       "      <td>0</td>\n",
       "      <td>Paul Bradley</td>\n",
       "      <td>M</td>\n",
       "      <td>9th</td>\n",
       "      <td>Huang High School</td>\n",
       "      <td>66</td>\n",
       "      <td>79</td>\n",
       "      <td>0</td>\n",
       "      <td>District</td>\n",
       "      <td>2917</td>\n",
       "      <td>1910635</td>\n",
       "    </tr>\n",
       "    <tr>\n",
       "      <th>1</th>\n",
       "      <td>1</td>\n",
       "      <td>Victor Smith</td>\n",
       "      <td>M</td>\n",
       "      <td>12th</td>\n",
       "      <td>Huang High School</td>\n",
       "      <td>94</td>\n",
       "      <td>61</td>\n",
       "      <td>0</td>\n",
       "      <td>District</td>\n",
       "      <td>2917</td>\n",
       "      <td>1910635</td>\n",
       "    </tr>\n",
       "    <tr>\n",
       "      <th>2</th>\n",
       "      <td>2</td>\n",
       "      <td>Kevin Rodriguez</td>\n",
       "      <td>M</td>\n",
       "      <td>12th</td>\n",
       "      <td>Huang High School</td>\n",
       "      <td>90</td>\n",
       "      <td>60</td>\n",
       "      <td>0</td>\n",
       "      <td>District</td>\n",
       "      <td>2917</td>\n",
       "      <td>1910635</td>\n",
       "    </tr>\n",
       "    <tr>\n",
       "      <th>3</th>\n",
       "      <td>3</td>\n",
       "      <td>Dr. Richard Scott</td>\n",
       "      <td>M</td>\n",
       "      <td>12th</td>\n",
       "      <td>Huang High School</td>\n",
       "      <td>67</td>\n",
       "      <td>58</td>\n",
       "      <td>0</td>\n",
       "      <td>District</td>\n",
       "      <td>2917</td>\n",
       "      <td>1910635</td>\n",
       "    </tr>\n",
       "    <tr>\n",
       "      <th>4</th>\n",
       "      <td>4</td>\n",
       "      <td>Bonnie Ray</td>\n",
       "      <td>F</td>\n",
       "      <td>9th</td>\n",
       "      <td>Huang High School</td>\n",
       "      <td>97</td>\n",
       "      <td>84</td>\n",
       "      <td>0</td>\n",
       "      <td>District</td>\n",
       "      <td>2917</td>\n",
       "      <td>1910635</td>\n",
       "    </tr>\n",
       "  </tbody>\n",
       "</table>\n",
       "</div>"
      ],
      "text/plain": [
       "   student_id       student_name gender grade        school_name  \\\n",
       "0           0       Paul Bradley      M   9th  Huang High School   \n",
       "1           1       Victor Smith      M  12th  Huang High School   \n",
       "2           2    Kevin Rodriguez      M  12th  Huang High School   \n",
       "3           3  Dr. Richard Scott      M  12th  Huang High School   \n",
       "4           4         Bonnie Ray      F   9th  Huang High School   \n",
       "\n",
       "   reading_score  math_score  school_id      type  size   budget  \n",
       "0             66          79          0  District  2917  1910635  \n",
       "1             94          61          0  District  2917  1910635  \n",
       "2             90          60          0  District  2917  1910635  \n",
       "3             67          58          0  District  2917  1910635  \n",
       "4             97          84          0  District  2917  1910635  "
      ]
     },
     "execution_count": 224,
     "metadata": {},
     "output_type": "execute_result"
    }
   ],
   "source": [
    "# eliminate spaces in column names\n",
    "df.rename(columns = {\"Student ID\":\"student_id\", \"School ID\":\"school_id\"}, inplace=True)\n",
    "df.head()"
   ]
  },
  {
   "cell_type": "code",
   "execution_count": 225,
   "metadata": {
    "scrolled": true
   },
   "outputs": [
    {
     "data": {
      "text/plain": [
       "student_id        int64\n",
       "student_name     object\n",
       "gender           object\n",
       "grade            object\n",
       "school_name      object\n",
       "reading_score     int64\n",
       "math_score        int64\n",
       "school_id         int64\n",
       "type             object\n",
       "size              int64\n",
       "budget            int64\n",
       "dtype: object"
      ]
     },
     "execution_count": 225,
     "metadata": {},
     "output_type": "execute_result"
    }
   ],
   "source": [
    "# check data types\n",
    "df.dtypes"
   ]
  },
  {
   "cell_type": "code",
   "execution_count": 226,
   "metadata": {},
   "outputs": [],
   "source": [
    "# change some dtypes and confirm\n",
    "#df[\"student_id\"] = df.student_id.astype(object)\n",
    "#df[\"school_id\"] = df.school_id.astype(object)\n",
    "#df.dtypes"
   ]
  },
  {
   "cell_type": "code",
   "execution_count": 227,
   "metadata": {
    "scrolled": false
   },
   "outputs": [],
   "source": [
    "# check data\n",
    "#df.head()"
   ]
  },
  {
   "cell_type": "code",
   "execution_count": 228,
   "metadata": {},
   "outputs": [
    {
     "name": "stdout",
     "output_type": "stream",
     "text": [
      "15\n",
      "['Huang High School' 'Figueroa High School' 'Shelton High School'\n",
      " 'Hernandez High School' 'Griffin High School' 'Wilson High School'\n",
      " 'Cabrera High School' 'Bailey High School' 'Holden High School'\n",
      " 'Pena High School' 'Wright High School' 'Rodriguez High School'\n",
      " 'Johnson High School' 'Ford High School' 'Thomas High School']\n"
     ]
    }
   ],
   "source": [
    "# find total number of unique school names and confirm\n",
    "total_schools = df[\"school_name\"].nunique()\n",
    "print(total_schools)\n",
    "print(df[\"school_name\"].unique())"
   ]
  },
  {
   "cell_type": "code",
   "execution_count": 229,
   "metadata": {},
   "outputs": [
    {
     "data": {
      "text/plain": [
       "39170"
      ]
     },
     "execution_count": 229,
     "metadata": {},
     "output_type": "execute_result"
    }
   ],
   "source": [
    "# find total number of students in district\n",
    "total_students = df[\"student_name\"].count()\n",
    "\n",
    "total_students"
   ]
  },
  {
   "cell_type": "code",
   "execution_count": 230,
   "metadata": {},
   "outputs": [
    {
     "data": {
      "text/plain": [
       "array([1910635, 1884411, 1056600, 3022020,  917500, 1319574, 1081356,\n",
       "       3124928,  248087,  585858, 1049400, 2547363, 3094650, 1763916,\n",
       "       1043130], dtype=int64)"
      ]
     },
     "execution_count": 230,
     "metadata": {},
     "output_type": "execute_result"
    }
   ],
   "source": [
    "# find unique school budgets\n",
    "unique_budget = df[\"budget\"].unique()\n",
    "\n",
    "unique_budget"
   ]
  },
  {
   "cell_type": "code",
   "execution_count": 231,
   "metadata": {},
   "outputs": [
    {
     "data": {
      "text/plain": [
       "24649428"
      ]
     },
     "execution_count": 231,
     "metadata": {},
     "output_type": "execute_result"
    }
   ],
   "source": [
    "# compute total budget of all schools\n",
    "total_budget = sum(unique_budget)\n",
    "\n",
    "total_budget"
   ]
  },
  {
   "cell_type": "code",
   "execution_count": 232,
   "metadata": {},
   "outputs": [
    {
     "data": {
      "text/plain": [
       "78.98537145774827"
      ]
     },
     "execution_count": 232,
     "metadata": {},
     "output_type": "execute_result"
    }
   ],
   "source": [
    "# calculate average math score\n",
    "math_average = df[\"math_score\"].mean()\n",
    "math_average"
   ]
  },
  {
   "cell_type": "code",
   "execution_count": 233,
   "metadata": {},
   "outputs": [
    {
     "data": {
      "text/plain": [
       "81.87784018381414"
      ]
     },
     "execution_count": 233,
     "metadata": {},
     "output_type": "execute_result"
    }
   ],
   "source": [
    "# calculate average math score\n",
    "reading_average = df[\"reading_score\"].mean()\n",
    "reading_average"
   ]
  },
  {
   "cell_type": "code",
   "execution_count": 234,
   "metadata": {},
   "outputs": [
    {
     "data": {
      "text/plain": [
       "29370"
      ]
     },
     "execution_count": 234,
     "metadata": {},
     "output_type": "execute_result"
    }
   ],
   "source": [
    "# count the number of students passing math\n",
    "pass_math_count = (df[\"math_score\"]>=70).sum()\n",
    "\n",
    "pass_math_count"
   ]
  },
  {
   "cell_type": "code",
   "execution_count": 235,
   "metadata": {},
   "outputs": [
    {
     "data": {
      "text/plain": [
       "74.9808526933878"
      ]
     },
     "execution_count": 235,
     "metadata": {},
     "output_type": "execute_result"
    }
   ],
   "source": [
    "pct_pass_math = pass_math_count/total_students * 100\n",
    "\n",
    "pct_pass_math"
   ]
  },
  {
   "cell_type": "code",
   "execution_count": 236,
   "metadata": {},
   "outputs": [
    {
     "data": {
      "text/plain": [
       "33610"
      ]
     },
     "execution_count": 236,
     "metadata": {},
     "output_type": "execute_result"
    }
   ],
   "source": [
    "# count the number of students passing reading\n",
    "pass_reading_count = (df[\"reading_score\"]>=70).sum()\n",
    "\n",
    "pass_reading_count"
   ]
  },
  {
   "cell_type": "code",
   "execution_count": 237,
   "metadata": {},
   "outputs": [
    {
     "data": {
      "text/plain": [
       "85.80546336482001"
      ]
     },
     "execution_count": 237,
     "metadata": {},
     "output_type": "execute_result"
    }
   ],
   "source": [
    "pct_pass_reading = pass_reading_count/total_students * 100\n",
    "\n",
    "pct_pass_reading"
   ]
  },
  {
   "cell_type": "code",
   "execution_count": 238,
   "metadata": {},
   "outputs": [
    {
     "data": {
      "text/plain": [
       "25528"
      ]
     },
     "execution_count": 238,
     "metadata": {},
     "output_type": "execute_result"
    }
   ],
   "source": [
    "# count the number of students passing math and reading\n",
    "pass_overall_count = len(df[(df[\"math_score\"]>=70) & (df[\"reading_score\"]>=70)])\n",
    "\n",
    "pass_overall_count"
   ]
  },
  {
   "cell_type": "code",
   "execution_count": 239,
   "metadata": {},
   "outputs": [
    {
     "data": {
      "text/plain": [
       "65.17232575950983"
      ]
     },
     "execution_count": 239,
     "metadata": {},
     "output_type": "execute_result"
    }
   ],
   "source": [
    "pct_pass_overall = pass_overall_count/total_students * 100\n",
    "\n",
    "pct_pass_overall"
   ]
  },
  {
   "cell_type": "code",
   "execution_count": 240,
   "metadata": {
    "scrolled": true
   },
   "outputs": [
    {
     "data": {
      "text/html": [
       "<div>\n",
       "<style scoped>\n",
       "    .dataframe tbody tr th:only-of-type {\n",
       "        vertical-align: middle;\n",
       "    }\n",
       "\n",
       "    .dataframe tbody tr th {\n",
       "        vertical-align: top;\n",
       "    }\n",
       "\n",
       "    .dataframe thead th {\n",
       "        text-align: right;\n",
       "    }\n",
       "</style>\n",
       "<table border=\"1\" class=\"dataframe\">\n",
       "  <thead>\n",
       "    <tr style=\"text-align: right;\">\n",
       "      <th></th>\n",
       "      <th>Total Schools</th>\n",
       "      <th>Total Students</th>\n",
       "      <th>Total Budget</th>\n",
       "      <th>Average Math Score</th>\n",
       "      <th>Average Reading Score</th>\n",
       "      <th>% Passing Math</th>\n",
       "      <th>% Passing Reading</th>\n",
       "      <th>% Overall Passing</th>\n",
       "    </tr>\n",
       "  </thead>\n",
       "  <tbody>\n",
       "    <tr>\n",
       "      <th>0</th>\n",
       "      <td>15</td>\n",
       "      <td>39170</td>\n",
       "      <td>24649428.0</td>\n",
       "      <td>78.985371</td>\n",
       "      <td>81.87784</td>\n",
       "      <td>74.980853</td>\n",
       "      <td>85.805463</td>\n",
       "      <td>65.172326</td>\n",
       "    </tr>\n",
       "  </tbody>\n",
       "</table>\n",
       "</div>"
      ],
      "text/plain": [
       "   Total Schools  Total Students  Total Budget  Average Math Score  \\\n",
       "0             15           39170    24649428.0           78.985371   \n",
       "\n",
       "   Average Reading Score  % Passing Math  % Passing Reading  % Overall Passing  \n",
       "0               81.87784       74.980853          85.805463          65.172326  "
      ]
     },
     "execution_count": 240,
     "metadata": {},
     "output_type": "execute_result"
    }
   ],
   "source": [
    "# place all of the data into a new district summary DataFrame and display\n",
    "district_summary_df = pd.DataFrame({\n",
    "    \"Total Schools\": [total_schools],\n",
    "    \"Total Students\": [total_students],\n",
    "    \"Total Budget\": [total_budget.astype(float)],\n",
    "    \"Average Math Score\": [math_average],\n",
    "    \"Average Reading Score\": [reading_average],\n",
    "    \"% Passing Math\": [pct_pass_math],\n",
    "    \"% Passing Reading\": [pct_pass_reading],\n",
    "    \"% Overall Passing\": [pct_pass_overall]\n",
    "})\n",
    "\n",
    "district_summary_df"
   ]
  },
  {
   "cell_type": "code",
   "execution_count": 241,
   "metadata": {},
   "outputs": [
    {
     "data": {
      "text/html": [
       "<div>\n",
       "<style scoped>\n",
       "    .dataframe tbody tr th:only-of-type {\n",
       "        vertical-align: middle;\n",
       "    }\n",
       "\n",
       "    .dataframe tbody tr th {\n",
       "        vertical-align: top;\n",
       "    }\n",
       "\n",
       "    .dataframe thead th {\n",
       "        text-align: right;\n",
       "    }\n",
       "</style>\n",
       "<table border=\"1\" class=\"dataframe\">\n",
       "  <thead>\n",
       "    <tr style=\"text-align: right;\">\n",
       "      <th></th>\n",
       "      <th>Total Schools</th>\n",
       "      <th>Total Students</th>\n",
       "      <th>Total Budget</th>\n",
       "      <th>Average Math Score</th>\n",
       "      <th>Average Reading Score</th>\n",
       "      <th>% Passing Math</th>\n",
       "      <th>% Passing Reading</th>\n",
       "      <th>% Overall Passing</th>\n",
       "    </tr>\n",
       "  </thead>\n",
       "  <tbody>\n",
       "    <tr>\n",
       "      <th>0</th>\n",
       "      <td>15</td>\n",
       "      <td>39,170</td>\n",
       "      <td>$24,649,428.00</td>\n",
       "      <td>78.985371</td>\n",
       "      <td>81.87784</td>\n",
       "      <td>74.980853</td>\n",
       "      <td>85.805463</td>\n",
       "      <td>65.172326</td>\n",
       "    </tr>\n",
       "  </tbody>\n",
       "</table>\n",
       "</div>"
      ],
      "text/plain": [
       "   Total Schools Total Students    Total Budget  Average Math Score  \\\n",
       "0             15         39,170  $24,649,428.00           78.985371   \n",
       "\n",
       "   Average Reading Score  % Passing Math  % Passing Reading  % Overall Passing  \n",
       "0               81.87784       74.980853          85.805463          65.172326  "
      ]
     },
     "execution_count": 241,
     "metadata": {},
     "output_type": "execute_result"
    }
   ],
   "source": [
    "# format some data in table\n",
    "district_summary_df['Total Students'] = district_summary_df['Total Students'].map(\"{:,.0f}\".format)\n",
    "district_summary_df['Total Budget'] = district_summary_df['Total Budget'].map(\"${:,.2f}\".format)\n",
    "\n",
    "district_summary_df"
   ]
  },
  {
   "cell_type": "code",
   "execution_count": 242,
   "metadata": {},
   "outputs": [
    {
     "data": {
      "text/html": [
       "<div>\n",
       "<style scoped>\n",
       "    .dataframe tbody tr th:only-of-type {\n",
       "        vertical-align: middle;\n",
       "    }\n",
       "\n",
       "    .dataframe tbody tr th {\n",
       "        vertical-align: top;\n",
       "    }\n",
       "\n",
       "    .dataframe thead th {\n",
       "        text-align: right;\n",
       "    }\n",
       "</style>\n",
       "<table border=\"1\" class=\"dataframe\">\n",
       "  <thead>\n",
       "    <tr style=\"text-align: right;\">\n",
       "      <th></th>\n",
       "      <th>Total Schools</th>\n",
       "      <th>Total Students</th>\n",
       "      <th>Total Budget</th>\n",
       "      <th>Average Math Score</th>\n",
       "      <th>Average Reading Score</th>\n",
       "      <th>% Passing Math</th>\n",
       "      <th>% Passing Reading</th>\n",
       "      <th>% Overall Passing</th>\n",
       "    </tr>\n",
       "  </thead>\n",
       "  <tbody>\n",
       "    <tr>\n",
       "      <th>0</th>\n",
       "      <td>15</td>\n",
       "      <td>39,170</td>\n",
       "      <td>$24,649,428.00</td>\n",
       "      <td>78.99</td>\n",
       "      <td>81.88</td>\n",
       "      <td>74.98</td>\n",
       "      <td>85.81</td>\n",
       "      <td>65.17</td>\n",
       "    </tr>\n",
       "  </tbody>\n",
       "</table>\n",
       "</div>"
      ],
      "text/plain": [
       "   Total Schools Total Students    Total Budget Average Math Score  \\\n",
       "0             15         39,170  $24,649,428.00              78.99   \n",
       "\n",
       "  Average Reading Score % Passing Math % Passing Reading % Overall Passing  \n",
       "0                 81.88          74.98             85.81             65.17  "
      ]
     },
     "execution_count": 242,
     "metadata": {},
     "output_type": "execute_result"
    }
   ],
   "source": [
    "# display data in cleaner format\n",
    "district_summary_df.style.hide_index()\n",
    "district_summary_df['Average Math Score'] = district_summary_df['Average Math Score'].map(\"{:,.2f}\".format)\n",
    "district_summary_df['Average Reading Score'] = district_summary_df['Average Reading Score'].map(\"{:,.2f}\".format)\n",
    "district_summary_df['% Passing Math'] = district_summary_df['% Passing Math'].map(\"{:.2f}\".format)\n",
    "district_summary_df['% Passing Reading'] = district_summary_df['% Passing Reading'].map(\"{:.2f}\".format)\n",
    "district_summary_df['% Overall Passing'] = district_summary_df['% Overall Passing'].map(\"{:.2f}\".format)\n",
    "\n",
    "district_summary_df"
   ]
  },
  {
   "cell_type": "markdown",
   "metadata": {},
   "source": [
    "## School Summary"
   ]
  },
  {
   "cell_type": "markdown",
   "metadata": {},
   "source": [
    "* Create an overview table that summarizes key metrics about each school, including:\n",
    "  * School Name\n",
    "  * School Type\n",
    "  * Total Students\n",
    "  * Total School Budget\n",
    "  * Per Student Budget\n",
    "  * Average Math Score\n",
    "  * Average Reading Score\n",
    "  * % Passing Math\n",
    "  * % Passing Reading\n",
    "  * % Overall Passing (The percentage of students that passed math **and** reading.)\n",
    "  \n",
    "* Create a dataframe to hold the above results"
   ]
  },
  {
   "cell_type": "code",
   "execution_count": 243,
   "metadata": {
    "scrolled": false
   },
   "outputs": [
    {
     "data": {
      "text/html": [
       "<div>\n",
       "<style scoped>\n",
       "    .dataframe tbody tr th:only-of-type {\n",
       "        vertical-align: middle;\n",
       "    }\n",
       "\n",
       "    .dataframe tbody tr th {\n",
       "        vertical-align: top;\n",
       "    }\n",
       "\n",
       "    .dataframe thead th {\n",
       "        text-align: right;\n",
       "    }\n",
       "</style>\n",
       "<table border=\"1\" class=\"dataframe\">\n",
       "  <thead>\n",
       "    <tr style=\"text-align: right;\">\n",
       "      <th></th>\n",
       "      <th>student_id</th>\n",
       "      <th>student_name</th>\n",
       "      <th>gender</th>\n",
       "      <th>grade</th>\n",
       "      <th>school_name</th>\n",
       "      <th>reading_score</th>\n",
       "      <th>math_score</th>\n",
       "      <th>school_id</th>\n",
       "      <th>type</th>\n",
       "      <th>size</th>\n",
       "      <th>budget</th>\n",
       "    </tr>\n",
       "  </thead>\n",
       "  <tbody>\n",
       "    <tr>\n",
       "      <th>0</th>\n",
       "      <td>0</td>\n",
       "      <td>Paul Bradley</td>\n",
       "      <td>M</td>\n",
       "      <td>9th</td>\n",
       "      <td>Huang High School</td>\n",
       "      <td>66</td>\n",
       "      <td>79</td>\n",
       "      <td>0</td>\n",
       "      <td>District</td>\n",
       "      <td>2917</td>\n",
       "      <td>1910635</td>\n",
       "    </tr>\n",
       "    <tr>\n",
       "      <th>1</th>\n",
       "      <td>1</td>\n",
       "      <td>Victor Smith</td>\n",
       "      <td>M</td>\n",
       "      <td>12th</td>\n",
       "      <td>Huang High School</td>\n",
       "      <td>94</td>\n",
       "      <td>61</td>\n",
       "      <td>0</td>\n",
       "      <td>District</td>\n",
       "      <td>2917</td>\n",
       "      <td>1910635</td>\n",
       "    </tr>\n",
       "    <tr>\n",
       "      <th>2</th>\n",
       "      <td>2</td>\n",
       "      <td>Kevin Rodriguez</td>\n",
       "      <td>M</td>\n",
       "      <td>12th</td>\n",
       "      <td>Huang High School</td>\n",
       "      <td>90</td>\n",
       "      <td>60</td>\n",
       "      <td>0</td>\n",
       "      <td>District</td>\n",
       "      <td>2917</td>\n",
       "      <td>1910635</td>\n",
       "    </tr>\n",
       "    <tr>\n",
       "      <th>3</th>\n",
       "      <td>3</td>\n",
       "      <td>Dr. Richard Scott</td>\n",
       "      <td>M</td>\n",
       "      <td>12th</td>\n",
       "      <td>Huang High School</td>\n",
       "      <td>67</td>\n",
       "      <td>58</td>\n",
       "      <td>0</td>\n",
       "      <td>District</td>\n",
       "      <td>2917</td>\n",
       "      <td>1910635</td>\n",
       "    </tr>\n",
       "    <tr>\n",
       "      <th>4</th>\n",
       "      <td>4</td>\n",
       "      <td>Bonnie Ray</td>\n",
       "      <td>F</td>\n",
       "      <td>9th</td>\n",
       "      <td>Huang High School</td>\n",
       "      <td>97</td>\n",
       "      <td>84</td>\n",
       "      <td>0</td>\n",
       "      <td>District</td>\n",
       "      <td>2917</td>\n",
       "      <td>1910635</td>\n",
       "    </tr>\n",
       "  </tbody>\n",
       "</table>\n",
       "</div>"
      ],
      "text/plain": [
       "   student_id       student_name gender grade        school_name  \\\n",
       "0           0       Paul Bradley      M   9th  Huang High School   \n",
       "1           1       Victor Smith      M  12th  Huang High School   \n",
       "2           2    Kevin Rodriguez      M  12th  Huang High School   \n",
       "3           3  Dr. Richard Scott      M  12th  Huang High School   \n",
       "4           4         Bonnie Ray      F   9th  Huang High School   \n",
       "\n",
       "   reading_score  math_score  school_id      type  size   budget  \n",
       "0             66          79          0  District  2917  1910635  \n",
       "1             94          61          0  District  2917  1910635  \n",
       "2             90          60          0  District  2917  1910635  \n",
       "3             67          58          0  District  2917  1910635  \n",
       "4             97          84          0  District  2917  1910635  "
      ]
     },
     "execution_count": 243,
     "metadata": {},
     "output_type": "execute_result"
    }
   ],
   "source": [
    "# for reference\n",
    "df.head()"
   ]
  },
  {
   "cell_type": "code",
   "execution_count": 244,
   "metadata": {},
   "outputs": [],
   "source": [
    "# create variable for GroupBy school name\n",
    "school = df.set_index('school_name').groupby(['school_name'])"
   ]
  },
  {
   "cell_type": "code",
   "execution_count": 245,
   "metadata": {},
   "outputs": [
    {
     "data": {
      "text/plain": [
       "0         Huang High School\n",
       "1         Huang High School\n",
       "2         Huang High School\n",
       "3         Huang High School\n",
       "4         Huang High School\n",
       "                ...        \n",
       "39165    Thomas High School\n",
       "39166    Thomas High School\n",
       "39167    Thomas High School\n",
       "39168    Thomas High School\n",
       "39169    Thomas High School\n",
       "Name: school_name, Length: 39170, dtype: object"
      ]
     },
     "execution_count": 245,
     "metadata": {},
     "output_type": "execute_result"
    }
   ],
   "source": [
    "school_name = df['school_name']\n",
    "\n",
    "school_name"
   ]
  },
  {
   "cell_type": "code",
   "execution_count": 246,
   "metadata": {},
   "outputs": [
    {
     "data": {
      "text/plain": [
       "school_name\n",
       "Huang High School     District\n",
       "Huang High School     District\n",
       "Huang High School     District\n",
       "Huang High School     District\n",
       "Huang High School     District\n",
       "                        ...   \n",
       "Thomas High School     Charter\n",
       "Thomas High School     Charter\n",
       "Thomas High School     Charter\n",
       "Thomas High School     Charter\n",
       "Thomas High School     Charter\n",
       "Name: type, Length: 39170, dtype: object"
      ]
     },
     "execution_count": 246,
     "metadata": {},
     "output_type": "execute_result"
    }
   ],
   "source": [
    "# determine school type\n",
    "school_type = df.set_index('school_name')['type']\n",
    "\n",
    "school_type"
   ]
  },
  {
   "cell_type": "code",
   "execution_count": 247,
   "metadata": {},
   "outputs": [
    {
     "data": {
      "text/plain": [
       "school_name\n",
       "Bailey High School       4976\n",
       "Cabrera High School      1858\n",
       "Figueroa High School     2949\n",
       "Ford High School         2739\n",
       "Griffin High School      1468\n",
       "Hernandez High School    4635\n",
       "Holden High School        427\n",
       "Huang High School        2917\n",
       "Johnson High School      4761\n",
       "Pena High School          962\n",
       "Rodriguez High School    3999\n",
       "Shelton High School      1761\n",
       "Thomas High School       1635\n",
       "Wilson High School       2283\n",
       "Wright High School       1800\n",
       "Name: student_name, dtype: int64"
      ]
     },
     "execution_count": 247,
     "metadata": {},
     "output_type": "execute_result"
    }
   ],
   "source": [
    "# determine number of students in school\n",
    "school_pop = school[\"student_name\"].count()\n",
    "\n",
    "school_pop"
   ]
  },
  {
   "cell_type": "code",
   "execution_count": 248,
   "metadata": {},
   "outputs": [
    {
     "data": {
      "text/plain": [
       "school_name\n",
       "Huang High School     1910635\n",
       "Huang High School     1910635\n",
       "Huang High School     1910635\n",
       "Huang High School     1910635\n",
       "Huang High School     1910635\n",
       "                       ...   \n",
       "Thomas High School    1043130\n",
       "Thomas High School    1043130\n",
       "Thomas High School    1043130\n",
       "Thomas High School    1043130\n",
       "Thomas High School    1043130\n",
       "Name: budget, Length: 39170, dtype: int64"
      ]
     },
     "execution_count": 248,
     "metadata": {},
     "output_type": "execute_result"
    }
   ],
   "source": [
    "# determine budget for each school\n",
    "school_budget = df.set_index('school_name')['budget']\n",
    "\n",
    "school_budget"
   ]
  },
  {
   "cell_type": "code",
   "execution_count": 249,
   "metadata": {},
   "outputs": [
    {
     "data": {
      "text/plain": [
       "school_name\n",
       "Bailey High School    628.0\n",
       "Bailey High School    628.0\n",
       "Bailey High School    628.0\n",
       "Bailey High School    628.0\n",
       "Bailey High School    628.0\n",
       "                      ...  \n",
       "Wright High School    583.0\n",
       "Wright High School    583.0\n",
       "Wright High School    583.0\n",
       "Wright High School    583.0\n",
       "Wright High School    583.0\n",
       "Length: 39170, dtype: float64"
      ]
     },
     "execution_count": 249,
     "metadata": {},
     "output_type": "execute_result"
    }
   ],
   "source": [
    "# calculate per student budget per school\n",
    "student_budget = school_budget/school_pop\n",
    "\n",
    "student_budget"
   ]
  },
  {
   "cell_type": "code",
   "execution_count": 250,
   "metadata": {},
   "outputs": [
    {
     "data": {
      "text/plain": [
       "school_name\n",
       "Bailey High School       77.048432\n",
       "Cabrera High School      83.061895\n",
       "Figueroa High School     76.711767\n",
       "Ford High School         77.102592\n",
       "Griffin High School      83.351499\n",
       "Hernandez High School    77.289752\n",
       "Holden High School       83.803279\n",
       "Huang High School        76.629414\n",
       "Johnson High School      77.072464\n",
       "Pena High School         83.839917\n",
       "Rodriguez High School    76.842711\n",
       "Shelton High School      83.359455\n",
       "Thomas High School       83.418349\n",
       "Wilson High School       83.274201\n",
       "Wright High School       83.682222\n",
       "Name: math_score, dtype: float64"
      ]
     },
     "execution_count": 250,
     "metadata": {},
     "output_type": "execute_result"
    }
   ],
   "source": [
    "# calculate average math score per school\n",
    "avg_math_school = school['math_score'].mean()\n",
    "\n",
    "avg_math_school"
   ]
  },
  {
   "cell_type": "code",
   "execution_count": 251,
   "metadata": {},
   "outputs": [
    {
     "data": {
      "text/plain": [
       "school_name\n",
       "Bailey High School       81.033963\n",
       "Cabrera High School      83.975780\n",
       "Figueroa High School     81.158020\n",
       "Ford High School         80.746258\n",
       "Griffin High School      83.816757\n",
       "Hernandez High School    80.934412\n",
       "Holden High School       83.814988\n",
       "Huang High School        81.182722\n",
       "Johnson High School      80.966394\n",
       "Pena High School         84.044699\n",
       "Rodriguez High School    80.744686\n",
       "Shelton High School      83.725724\n",
       "Thomas High School       83.848930\n",
       "Wilson High School       83.989488\n",
       "Wright High School       83.955000\n",
       "Name: reading_score, dtype: float64"
      ]
     },
     "execution_count": 251,
     "metadata": {},
     "output_type": "execute_result"
    }
   ],
   "source": [
    "# calculate average reading score per school\n",
    "avg_read_school = school['reading_score'].mean()\n",
    "\n",
    "avg_read_school"
   ]
  },
  {
   "cell_type": "code",
   "execution_count": 252,
   "metadata": {},
   "outputs": [
    {
     "data": {
      "text/plain": [
       "school_name\n",
       "Bailey High School       66.680064\n",
       "Cabrera High School      94.133477\n",
       "Figueroa High School     65.988471\n",
       "Ford High School         68.309602\n",
       "Griffin High School      93.392371\n",
       "Hernandez High School    66.752967\n",
       "Holden High School       92.505855\n",
       "Huang High School        65.683922\n",
       "Johnson High School      66.057551\n",
       "Pena High School         94.594595\n",
       "Rodriguez High School    66.366592\n",
       "Shelton High School      93.867121\n",
       "Thomas High School       93.272171\n",
       "Wilson High School       93.867718\n",
       "Wright High School       93.333333\n",
       "Name: student_name, dtype: float64"
      ]
     },
     "execution_count": 252,
     "metadata": {},
     "output_type": "execute_result"
    }
   ],
   "source": [
    "# calculate percent passing math per school\n",
    "pass_math_school = df.loc[df['math_score'] >= 70].groupby('school_name')['student_name'].count() / school_pop * 100\n",
    "\n",
    "pass_math_school"
   ]
  },
  {
   "cell_type": "code",
   "execution_count": 253,
   "metadata": {},
   "outputs": [
    {
     "data": {
      "text/plain": [
       "school_name\n",
       "Bailey High School       81.933280\n",
       "Cabrera High School      97.039828\n",
       "Figueroa High School     80.739234\n",
       "Ford High School         79.299014\n",
       "Griffin High School      97.138965\n",
       "Hernandez High School    80.862999\n",
       "Holden High School       96.252927\n",
       "Huang High School        81.316421\n",
       "Johnson High School      81.222432\n",
       "Pena High School         95.945946\n",
       "Rodriguez High School    80.220055\n",
       "Shelton High School      95.854628\n",
       "Thomas High School       97.308869\n",
       "Wilson High School       96.539641\n",
       "Wright High School       96.611111\n",
       "Name: student_name, dtype: float64"
      ]
     },
     "execution_count": 253,
     "metadata": {},
     "output_type": "execute_result"
    }
   ],
   "source": [
    "# calculate percent passing reading per school\n",
    "pass_reading_school = df.loc[df[\"reading_score\"] >= 70].groupby('school_name')['student_name'].count() / school_pop * 100\n",
    "\n",
    "\n",
    "pass_reading_school"
   ]
  },
  {
   "cell_type": "code",
   "execution_count": 254,
   "metadata": {
    "scrolled": false
   },
   "outputs": [
    {
     "data": {
      "text/plain": [
       "school_name\n",
       "Bailey High School       54.642283\n",
       "Cabrera High School      91.334769\n",
       "Figueroa High School     53.204476\n",
       "Ford High School         54.289887\n",
       "Griffin High School      90.599455\n",
       "Hernandez High School    53.527508\n",
       "Holden High School       89.227166\n",
       "Huang High School        53.513884\n",
       "Johnson High School      53.539172\n",
       "Pena High School         90.540541\n",
       "Rodriguez High School    52.988247\n",
       "Shelton High School      89.892107\n",
       "Thomas High School       90.948012\n",
       "Wilson High School       90.582567\n",
       "Wright High School       90.333333\n",
       "Name: student_name, dtype: float64"
      ]
     },
     "execution_count": 254,
     "metadata": {},
     "output_type": "execute_result"
    }
   ],
   "source": [
    "# calculate overall percent passing per school\n",
    "pass_overall_school = df.loc[(df['math_score'] >= 70) & (df['reading_score'] >= 70)].groupby('school_name')['student_name'].count() / school_pop * 100\n",
    "\n",
    "pass_overall_school"
   ]
  },
  {
   "cell_type": "code",
   "execution_count": 255,
   "metadata": {
    "scrolled": true
   },
   "outputs": [
    {
     "data": {
      "text/html": [
       "<div>\n",
       "<style scoped>\n",
       "    .dataframe tbody tr th:only-of-type {\n",
       "        vertical-align: middle;\n",
       "    }\n",
       "\n",
       "    .dataframe tbody tr th {\n",
       "        vertical-align: top;\n",
       "    }\n",
       "\n",
       "    .dataframe thead th {\n",
       "        text-align: right;\n",
       "    }\n",
       "</style>\n",
       "<table border=\"1\" class=\"dataframe\">\n",
       "  <thead>\n",
       "    <tr style=\"text-align: right;\">\n",
       "      <th></th>\n",
       "      <th>School Name</th>\n",
       "      <th>School Type</th>\n",
       "      <th>Total Students</th>\n",
       "      <th>Total School Budget</th>\n",
       "      <th>Per Student Budget</th>\n",
       "      <th>Average Math Score</th>\n",
       "      <th>Average Reading Score</th>\n",
       "      <th>% Passing Math</th>\n",
       "      <th>% Passing Reading</th>\n",
       "      <th>% Overall Passing</th>\n",
       "    </tr>\n",
       "  </thead>\n",
       "  <tbody>\n",
       "    <tr>\n",
       "      <th>0</th>\n",
       "      <td>0         Huang High School\n",
       "1         Huang Hi...</td>\n",
       "      <td>school_name\n",
       "Huang High School     District\n",
       "Hua...</td>\n",
       "      <td>school_name\n",
       "Bailey High School       4976\n",
       "Cabr...</td>\n",
       "      <td>school_name\n",
       "Huang High School     1910635\n",
       "Huan...</td>\n",
       "      <td>school_name\n",
       "Bailey High School    628.0\n",
       "Bailey...</td>\n",
       "      <td>school_name\n",
       "Bailey High School       77.048432...</td>\n",
       "      <td>school_name\n",
       "Bailey High School       81.033963...</td>\n",
       "      <td>school_name\n",
       "Bailey High School       66.680064...</td>\n",
       "      <td>school_name\n",
       "Bailey High School       81.933280...</td>\n",
       "      <td>school_name\n",
       "Bailey High School       54.642283...</td>\n",
       "    </tr>\n",
       "  </tbody>\n",
       "</table>\n",
       "</div>"
      ],
      "text/plain": [
       "                                         School Name  \\\n",
       "0  0         Huang High School\n",
       "1         Huang Hi...   \n",
       "\n",
       "                                         School Type  \\\n",
       "0  school_name\n",
       "Huang High School     District\n",
       "Hua...   \n",
       "\n",
       "                                      Total Students  \\\n",
       "0  school_name\n",
       "Bailey High School       4976\n",
       "Cabr...   \n",
       "\n",
       "                                 Total School Budget  \\\n",
       "0  school_name\n",
       "Huang High School     1910635\n",
       "Huan...   \n",
       "\n",
       "                                  Per Student Budget  \\\n",
       "0  school_name\n",
       "Bailey High School    628.0\n",
       "Bailey...   \n",
       "\n",
       "                                  Average Math Score  \\\n",
       "0  school_name\n",
       "Bailey High School       77.048432...   \n",
       "\n",
       "                               Average Reading Score  \\\n",
       "0  school_name\n",
       "Bailey High School       81.033963...   \n",
       "\n",
       "                                      % Passing Math  \\\n",
       "0  school_name\n",
       "Bailey High School       66.680064...   \n",
       "\n",
       "                                   % Passing Reading  \\\n",
       "0  school_name\n",
       "Bailey High School       81.933280...   \n",
       "\n",
       "                                   % Overall Passing  \n",
       "0  school_name\n",
       "Bailey High School       54.642283...  "
      ]
     },
     "execution_count": 255,
     "metadata": {},
     "output_type": "execute_result"
    }
   ],
   "source": [
    "# place all of the data into a new district summary DataFrame and display\n",
    "school_summary_df = pd.DataFrame({\n",
    "                                \"School Name\": [school_name],\n",
    "                                \"School Type\": [school_type],\n",
    "                                \"Total Students\": [school_pop],\n",
    "                                \"Total School Budget\": [school_budget],\n",
    "                                \"Per Student Budget\": [student_budget.astype(float)],\n",
    "                                \"Average Math Score\": [avg_math_school],\n",
    "                                \"Average Reading Score\": [avg_read_school],\n",
    "                                \"% Passing Math\": [pass_math_school],\n",
    "                                \"% Passing Reading\": [pass_reading_school],\n",
    "                                \"% Overall Passing\": [pass_overall_school]\n",
    "                                })\n",
    "\n",
    "school_summary_df"
   ]
  },
  {
   "cell_type": "code",
   "execution_count": 256,
   "metadata": {},
   "outputs": [
    {
     "data": {
      "text/html": [
       "<div>\n",
       "<style scoped>\n",
       "    .dataframe tbody tr th:only-of-type {\n",
       "        vertical-align: middle;\n",
       "    }\n",
       "\n",
       "    .dataframe tbody tr th {\n",
       "        vertical-align: top;\n",
       "    }\n",
       "\n",
       "    .dataframe thead th {\n",
       "        text-align: right;\n",
       "    }\n",
       "</style>\n",
       "<table border=\"1\" class=\"dataframe\">\n",
       "  <thead>\n",
       "    <tr style=\"text-align: right;\">\n",
       "      <th></th>\n",
       "      <th>School Type</th>\n",
       "      <th>Total Students</th>\n",
       "      <th>Total School Budget</th>\n",
       "      <th>Per Student Budget</th>\n",
       "      <th>Average Math Score</th>\n",
       "      <th>Average Reading Score</th>\n",
       "      <th>% Passing Math</th>\n",
       "      <th>% Passing Reading</th>\n",
       "      <th>% Overall Passing</th>\n",
       "    </tr>\n",
       "  </thead>\n",
       "  <tbody>\n",
       "    <tr>\n",
       "      <th>0</th>\n",
       "      <td>school_name\n",
       "Huang High School     District\n",
       "Hua...</td>\n",
       "      <td>school_name\n",
       "Bailey High School       4976\n",
       "Cabr...</td>\n",
       "      <td>school_name\n",
       "Huang High School     1910635\n",
       "Huan...</td>\n",
       "      <td>school_name\n",
       "Bailey High School    628.0\n",
       "Bailey...</td>\n",
       "      <td>school_name\n",
       "Bailey High School       77.048432...</td>\n",
       "      <td>school_name\n",
       "Bailey High School       81.033963...</td>\n",
       "      <td>school_name\n",
       "Bailey High School       66.680064...</td>\n",
       "      <td>school_name\n",
       "Bailey High School       81.933280...</td>\n",
       "      <td>school_name\n",
       "Bailey High School       54.642283...</td>\n",
       "    </tr>\n",
       "  </tbody>\n",
       "</table>\n",
       "</div>"
      ],
      "text/plain": [
       "                                         School Type  \\\n",
       "0  school_name\n",
       "Huang High School     District\n",
       "Hua...   \n",
       "\n",
       "                                      Total Students  \\\n",
       "0  school_name\n",
       "Bailey High School       4976\n",
       "Cabr...   \n",
       "\n",
       "                                 Total School Budget  \\\n",
       "0  school_name\n",
       "Huang High School     1910635\n",
       "Huan...   \n",
       "\n",
       "                                  Per Student Budget  \\\n",
       "0  school_name\n",
       "Bailey High School    628.0\n",
       "Bailey...   \n",
       "\n",
       "                                  Average Math Score  \\\n",
       "0  school_name\n",
       "Bailey High School       77.048432...   \n",
       "\n",
       "                               Average Reading Score  \\\n",
       "0  school_name\n",
       "Bailey High School       81.033963...   \n",
       "\n",
       "                                      % Passing Math  \\\n",
       "0  school_name\n",
       "Bailey High School       66.680064...   \n",
       "\n",
       "                                   % Passing Reading  \\\n",
       "0  school_name\n",
       "Bailey High School       81.933280...   \n",
       "\n",
       "                                   % Overall Passing  \n",
       "0  school_name\n",
       "Bailey High School       54.642283...  "
      ]
     },
     "execution_count": 256,
     "metadata": {},
     "output_type": "execute_result"
    }
   ],
   "source": [
    "# set order\n",
    "school_summary_df = school_summary_df [[\n",
    "                                    'School Type', \n",
    "                                    'Total Students', \n",
    "                                    'Total School Budget', \n",
    "                                    'Per Student Budget', \n",
    "                                    'Average Math Score', \n",
    "                                    'Average Reading Score',\n",
    "                                    '% Passing Math',\n",
    "                                    '% Passing Reading',\n",
    "                                    '% Overall Passing'\n",
    "                                    ]]\n",
    "\n",
    "school_summary_df"
   ]
  },
  {
   "cell_type": "code",
   "execution_count": 257,
   "metadata": {},
   "outputs": [],
   "source": [
    "# use Groupby to display df by school\n",
    "#school_summary_df.groupby(['School Name'])\n",
    "#school_summary_df.set_index('school_name').groupby(['school_name'])"
   ]
  },
  {
   "cell_type": "code",
   "execution_count": 258,
   "metadata": {},
   "outputs": [
    {
     "ename": "KeyError",
     "evalue": "'Total Budget'",
     "output_type": "error",
     "traceback": [
      "\u001b[1;31m---------------------------------------------------------------------------\u001b[0m",
      "\u001b[1;31mKeyError\u001b[0m                                  Traceback (most recent call last)",
      "\u001b[1;32m~\\anaconda3\\envs\\PythonData\\lib\\site-packages\\pandas\\core\\indexes\\base.py\u001b[0m in \u001b[0;36mget_loc\u001b[1;34m(self, key, method, tolerance)\u001b[0m\n\u001b[0;32m   2645\u001b[0m             \u001b[1;32mtry\u001b[0m\u001b[1;33m:\u001b[0m\u001b[1;33m\u001b[0m\u001b[1;33m\u001b[0m\u001b[0m\n\u001b[1;32m-> 2646\u001b[1;33m                 \u001b[1;32mreturn\u001b[0m \u001b[0mself\u001b[0m\u001b[1;33m.\u001b[0m\u001b[0m_engine\u001b[0m\u001b[1;33m.\u001b[0m\u001b[0mget_loc\u001b[0m\u001b[1;33m(\u001b[0m\u001b[0mkey\u001b[0m\u001b[1;33m)\u001b[0m\u001b[1;33m\u001b[0m\u001b[1;33m\u001b[0m\u001b[0m\n\u001b[0m\u001b[0;32m   2647\u001b[0m             \u001b[1;32mexcept\u001b[0m \u001b[0mKeyError\u001b[0m\u001b[1;33m:\u001b[0m\u001b[1;33m\u001b[0m\u001b[1;33m\u001b[0m\u001b[0m\n",
      "\u001b[1;32mpandas\\_libs\\index.pyx\u001b[0m in \u001b[0;36mpandas._libs.index.IndexEngine.get_loc\u001b[1;34m()\u001b[0m\n",
      "\u001b[1;32mpandas\\_libs\\index.pyx\u001b[0m in \u001b[0;36mpandas._libs.index.IndexEngine.get_loc\u001b[1;34m()\u001b[0m\n",
      "\u001b[1;32mpandas\\_libs\\hashtable_class_helper.pxi\u001b[0m in \u001b[0;36mpandas._libs.hashtable.PyObjectHashTable.get_item\u001b[1;34m()\u001b[0m\n",
      "\u001b[1;32mpandas\\_libs\\hashtable_class_helper.pxi\u001b[0m in \u001b[0;36mpandas._libs.hashtable.PyObjectHashTable.get_item\u001b[1;34m()\u001b[0m\n",
      "\u001b[1;31mKeyError\u001b[0m: 'Total Budget'",
      "\nDuring handling of the above exception, another exception occurred:\n",
      "\u001b[1;31mKeyError\u001b[0m                                  Traceback (most recent call last)",
      "\u001b[1;32m<ipython-input-258-9fdd8c78b818>\u001b[0m in \u001b[0;36m<module>\u001b[1;34m\u001b[0m\n\u001b[0;32m      1\u001b[0m \u001b[1;31m# format the data to match example\u001b[0m\u001b[1;33m\u001b[0m\u001b[1;33m\u001b[0m\u001b[1;33m\u001b[0m\u001b[0m\n\u001b[1;32m----> 2\u001b[1;33m \u001b[0mschool_summary_df\u001b[0m\u001b[1;33m[\u001b[0m\u001b[1;34m'Total Budget'\u001b[0m\u001b[1;33m]\u001b[0m \u001b[1;33m=\u001b[0m \u001b[0mschool_summary_df\u001b[0m\u001b[1;33m[\u001b[0m\u001b[1;34m'Total Budget'\u001b[0m\u001b[1;33m]\u001b[0m\u001b[1;33m.\u001b[0m\u001b[0mmap\u001b[0m\u001b[1;33m(\u001b[0m\u001b[1;34m\"${:,.2f}\"\u001b[0m\u001b[1;33m.\u001b[0m\u001b[0mformat\u001b[0m\u001b[1;33m)\u001b[0m\u001b[1;33m\u001b[0m\u001b[1;33m\u001b[0m\u001b[0m\n\u001b[0m\u001b[0;32m      3\u001b[0m \u001b[0mschool_summary_df\u001b[0m\u001b[1;33m[\u001b[0m\u001b[1;34m'Per Student Budget'\u001b[0m\u001b[1;33m]\u001b[0m \u001b[1;33m=\u001b[0m \u001b[0mschool_summary_df\u001b[0m\u001b[1;33m[\u001b[0m\u001b[1;34m'Per Student Budget'\u001b[0m\u001b[1;33m]\u001b[0m\u001b[1;33m.\u001b[0m\u001b[0mmap\u001b[0m\u001b[1;33m(\u001b[0m\u001b[1;34m\"${:,.2f}\"\u001b[0m\u001b[1;33m.\u001b[0m\u001b[0mformat\u001b[0m\u001b[1;33m)\u001b[0m\u001b[1;33m\u001b[0m\u001b[1;33m\u001b[0m\u001b[0m\n\u001b[0;32m      4\u001b[0m \u001b[1;33m\u001b[0m\u001b[0m\n\u001b[0;32m      5\u001b[0m \u001b[0mschool_summary_df\u001b[0m\u001b[1;33m\u001b[0m\u001b[1;33m\u001b[0m\u001b[0m\n",
      "\u001b[1;32m~\\anaconda3\\envs\\PythonData\\lib\\site-packages\\pandas\\core\\frame.py\u001b[0m in \u001b[0;36m__getitem__\u001b[1;34m(self, key)\u001b[0m\n\u001b[0;32m   2798\u001b[0m             \u001b[1;32mif\u001b[0m \u001b[0mself\u001b[0m\u001b[1;33m.\u001b[0m\u001b[0mcolumns\u001b[0m\u001b[1;33m.\u001b[0m\u001b[0mnlevels\u001b[0m \u001b[1;33m>\u001b[0m \u001b[1;36m1\u001b[0m\u001b[1;33m:\u001b[0m\u001b[1;33m\u001b[0m\u001b[1;33m\u001b[0m\u001b[0m\n\u001b[0;32m   2799\u001b[0m                 \u001b[1;32mreturn\u001b[0m \u001b[0mself\u001b[0m\u001b[1;33m.\u001b[0m\u001b[0m_getitem_multilevel\u001b[0m\u001b[1;33m(\u001b[0m\u001b[0mkey\u001b[0m\u001b[1;33m)\u001b[0m\u001b[1;33m\u001b[0m\u001b[1;33m\u001b[0m\u001b[0m\n\u001b[1;32m-> 2800\u001b[1;33m             \u001b[0mindexer\u001b[0m \u001b[1;33m=\u001b[0m \u001b[0mself\u001b[0m\u001b[1;33m.\u001b[0m\u001b[0mcolumns\u001b[0m\u001b[1;33m.\u001b[0m\u001b[0mget_loc\u001b[0m\u001b[1;33m(\u001b[0m\u001b[0mkey\u001b[0m\u001b[1;33m)\u001b[0m\u001b[1;33m\u001b[0m\u001b[1;33m\u001b[0m\u001b[0m\n\u001b[0m\u001b[0;32m   2801\u001b[0m             \u001b[1;32mif\u001b[0m \u001b[0mis_integer\u001b[0m\u001b[1;33m(\u001b[0m\u001b[0mindexer\u001b[0m\u001b[1;33m)\u001b[0m\u001b[1;33m:\u001b[0m\u001b[1;33m\u001b[0m\u001b[1;33m\u001b[0m\u001b[0m\n\u001b[0;32m   2802\u001b[0m                 \u001b[0mindexer\u001b[0m \u001b[1;33m=\u001b[0m \u001b[1;33m[\u001b[0m\u001b[0mindexer\u001b[0m\u001b[1;33m]\u001b[0m\u001b[1;33m\u001b[0m\u001b[1;33m\u001b[0m\u001b[0m\n",
      "\u001b[1;32m~\\anaconda3\\envs\\PythonData\\lib\\site-packages\\pandas\\core\\indexes\\base.py\u001b[0m in \u001b[0;36mget_loc\u001b[1;34m(self, key, method, tolerance)\u001b[0m\n\u001b[0;32m   2646\u001b[0m                 \u001b[1;32mreturn\u001b[0m \u001b[0mself\u001b[0m\u001b[1;33m.\u001b[0m\u001b[0m_engine\u001b[0m\u001b[1;33m.\u001b[0m\u001b[0mget_loc\u001b[0m\u001b[1;33m(\u001b[0m\u001b[0mkey\u001b[0m\u001b[1;33m)\u001b[0m\u001b[1;33m\u001b[0m\u001b[1;33m\u001b[0m\u001b[0m\n\u001b[0;32m   2647\u001b[0m             \u001b[1;32mexcept\u001b[0m \u001b[0mKeyError\u001b[0m\u001b[1;33m:\u001b[0m\u001b[1;33m\u001b[0m\u001b[1;33m\u001b[0m\u001b[0m\n\u001b[1;32m-> 2648\u001b[1;33m                 \u001b[1;32mreturn\u001b[0m \u001b[0mself\u001b[0m\u001b[1;33m.\u001b[0m\u001b[0m_engine\u001b[0m\u001b[1;33m.\u001b[0m\u001b[0mget_loc\u001b[0m\u001b[1;33m(\u001b[0m\u001b[0mself\u001b[0m\u001b[1;33m.\u001b[0m\u001b[0m_maybe_cast_indexer\u001b[0m\u001b[1;33m(\u001b[0m\u001b[0mkey\u001b[0m\u001b[1;33m)\u001b[0m\u001b[1;33m)\u001b[0m\u001b[1;33m\u001b[0m\u001b[1;33m\u001b[0m\u001b[0m\n\u001b[0m\u001b[0;32m   2649\u001b[0m         \u001b[0mindexer\u001b[0m \u001b[1;33m=\u001b[0m \u001b[0mself\u001b[0m\u001b[1;33m.\u001b[0m\u001b[0mget_indexer\u001b[0m\u001b[1;33m(\u001b[0m\u001b[1;33m[\u001b[0m\u001b[0mkey\u001b[0m\u001b[1;33m]\u001b[0m\u001b[1;33m,\u001b[0m \u001b[0mmethod\u001b[0m\u001b[1;33m=\u001b[0m\u001b[0mmethod\u001b[0m\u001b[1;33m,\u001b[0m \u001b[0mtolerance\u001b[0m\u001b[1;33m=\u001b[0m\u001b[0mtolerance\u001b[0m\u001b[1;33m)\u001b[0m\u001b[1;33m\u001b[0m\u001b[1;33m\u001b[0m\u001b[0m\n\u001b[0;32m   2650\u001b[0m         \u001b[1;32mif\u001b[0m \u001b[0mindexer\u001b[0m\u001b[1;33m.\u001b[0m\u001b[0mndim\u001b[0m \u001b[1;33m>\u001b[0m \u001b[1;36m1\u001b[0m \u001b[1;32mor\u001b[0m \u001b[0mindexer\u001b[0m\u001b[1;33m.\u001b[0m\u001b[0msize\u001b[0m \u001b[1;33m>\u001b[0m \u001b[1;36m1\u001b[0m\u001b[1;33m:\u001b[0m\u001b[1;33m\u001b[0m\u001b[1;33m\u001b[0m\u001b[0m\n",
      "\u001b[1;32mpandas\\_libs\\index.pyx\u001b[0m in \u001b[0;36mpandas._libs.index.IndexEngine.get_loc\u001b[1;34m()\u001b[0m\n",
      "\u001b[1;32mpandas\\_libs\\index.pyx\u001b[0m in \u001b[0;36mpandas._libs.index.IndexEngine.get_loc\u001b[1;34m()\u001b[0m\n",
      "\u001b[1;32mpandas\\_libs\\hashtable_class_helper.pxi\u001b[0m in \u001b[0;36mpandas._libs.hashtable.PyObjectHashTable.get_item\u001b[1;34m()\u001b[0m\n",
      "\u001b[1;32mpandas\\_libs\\hashtable_class_helper.pxi\u001b[0m in \u001b[0;36mpandas._libs.hashtable.PyObjectHashTable.get_item\u001b[1;34m()\u001b[0m\n",
      "\u001b[1;31mKeyError\u001b[0m: 'Total Budget'"
     ]
    }
   ],
   "source": [
    "# format the data to match example\n",
    "school_summary_df['Total Budget'] = school_summary_df['Total Budget'].map(\"${:,.2f}\".format)\n",
    "school_summary_df['Per Student Budget'] = school_summary_df['Per Student Budget'].map(\"${:,.2f}\".format)\n",
    "\n",
    "school_summary_df"
   ]
  },
  {
   "cell_type": "code",
   "execution_count": null,
   "metadata": {},
   "outputs": [],
   "source": [
    "# format the data in the table to read better\n",
    "school_summary_df['Total Students'] = school_summary_df['Total Students'].map(\"{:,.0f}\".format)\n",
    "school_summary_df['Average Math Score'] = school_summary_df['Average Math Score'].map(\"{:,.2f}\".format)\n",
    "school_summary_df['Average Reading Score'] = school_summary_df['Average Reading Score'].map(\"{:,.2f}\".format)\n",
    "school_summary_df['% Passing Math'] = school_summary_df['% Passing Math'].map(\"{:.2f}\".format)\n",
    "school_summary_df['% Passing Reading'] = school_summary_df['% Passing Reading'].map(\"{:.2f}\".format)\n",
    "school_summary_df['% Overall Passing'] = school_summary_df['% Overall Passing'].map(\"{:.2f}\".format)\n",
    "\n",
    "school_summary_df"
   ]
  },
  {
   "cell_type": "code",
   "execution_count": null,
   "metadata": {},
   "outputs": [],
   "source": [
    "# display summary table\n",
    "#school_summary_df.groupby(['School Name'])"
   ]
  },
  {
   "cell_type": "code",
   "execution_count": null,
   "metadata": {},
   "outputs": [],
   "source": []
  },
  {
   "cell_type": "markdown",
   "metadata": {},
   "source": [
    "## Top Performing Schools (By % Overall Passing)"
   ]
  },
  {
   "cell_type": "markdown",
   "metadata": {},
   "source": [
    "* Sort and display the top five performing schools by % overall passing."
   ]
  },
  {
   "cell_type": "code",
   "execution_count": 259,
   "metadata": {},
   "outputs": [
    {
     "data": {
      "text/html": [
       "<div>\n",
       "<style scoped>\n",
       "    .dataframe tbody tr th:only-of-type {\n",
       "        vertical-align: middle;\n",
       "    }\n",
       "\n",
       "    .dataframe tbody tr th {\n",
       "        vertical-align: top;\n",
       "    }\n",
       "\n",
       "    .dataframe thead th {\n",
       "        text-align: right;\n",
       "    }\n",
       "</style>\n",
       "<table border=\"1\" class=\"dataframe\">\n",
       "  <thead>\n",
       "    <tr style=\"text-align: right;\">\n",
       "      <th></th>\n",
       "      <th>School Type</th>\n",
       "      <th>Total Students</th>\n",
       "      <th>Total School Budget</th>\n",
       "      <th>Per Student Budget</th>\n",
       "      <th>Average Math Score</th>\n",
       "      <th>Average Reading Score</th>\n",
       "      <th>% Passing Math</th>\n",
       "      <th>% Passing Reading</th>\n",
       "      <th>% Overall Passing</th>\n",
       "    </tr>\n",
       "  </thead>\n",
       "  <tbody>\n",
       "    <tr>\n",
       "      <th>0</th>\n",
       "      <td>school_name\n",
       "Huang High School     District\n",
       "Hua...</td>\n",
       "      <td>school_name\n",
       "Bailey High School       4976\n",
       "Cabr...</td>\n",
       "      <td>school_name\n",
       "Huang High School     1910635\n",
       "Huan...</td>\n",
       "      <td>school_name\n",
       "Bailey High School    628.0\n",
       "Bailey...</td>\n",
       "      <td>school_name\n",
       "Bailey High School       77.048432...</td>\n",
       "      <td>school_name\n",
       "Bailey High School       81.033963...</td>\n",
       "      <td>school_name\n",
       "Bailey High School       66.680064...</td>\n",
       "      <td>school_name\n",
       "Bailey High School       81.933280...</td>\n",
       "      <td>school_name\n",
       "Bailey High School       54.642283...</td>\n",
       "    </tr>\n",
       "  </tbody>\n",
       "</table>\n",
       "</div>"
      ],
      "text/plain": [
       "                                         School Type  \\\n",
       "0  school_name\n",
       "Huang High School     District\n",
       "Hua...   \n",
       "\n",
       "                                      Total Students  \\\n",
       "0  school_name\n",
       "Bailey High School       4976\n",
       "Cabr...   \n",
       "\n",
       "                                 Total School Budget  \\\n",
       "0  school_name\n",
       "Huang High School     1910635\n",
       "Huan...   \n",
       "\n",
       "                                  Per Student Budget  \\\n",
       "0  school_name\n",
       "Bailey High School    628.0\n",
       "Bailey...   \n",
       "\n",
       "                                  Average Math Score  \\\n",
       "0  school_name\n",
       "Bailey High School       77.048432...   \n",
       "\n",
       "                               Average Reading Score  \\\n",
       "0  school_name\n",
       "Bailey High School       81.033963...   \n",
       "\n",
       "                                      % Passing Math  \\\n",
       "0  school_name\n",
       "Bailey High School       66.680064...   \n",
       "\n",
       "                                   % Passing Reading  \\\n",
       "0  school_name\n",
       "Bailey High School       81.933280...   \n",
       "\n",
       "                                   % Overall Passing  \n",
       "0  school_name\n",
       "Bailey High School       54.642283...  "
      ]
     },
     "execution_count": 259,
     "metadata": {},
     "output_type": "execute_result"
    }
   ],
   "source": [
    "# show top five overall performing schools\n",
    "top_five = school_summary_df.sort_values('% Overall Passing', ascending=False)\n",
    "\n",
    "top_five.head(5)"
   ]
  },
  {
   "cell_type": "markdown",
   "metadata": {},
   "source": [
    "## Bottom Performing Schools (By % Overall Passing)"
   ]
  },
  {
   "cell_type": "markdown",
   "metadata": {},
   "source": [
    "* Sort and display the five worst-performing schools by % overall passing."
   ]
  },
  {
   "cell_type": "code",
   "execution_count": 260,
   "metadata": {},
   "outputs": [
    {
     "data": {
      "text/html": [
       "<div>\n",
       "<style scoped>\n",
       "    .dataframe tbody tr th:only-of-type {\n",
       "        vertical-align: middle;\n",
       "    }\n",
       "\n",
       "    .dataframe tbody tr th {\n",
       "        vertical-align: top;\n",
       "    }\n",
       "\n",
       "    .dataframe thead th {\n",
       "        text-align: right;\n",
       "    }\n",
       "</style>\n",
       "<table border=\"1\" class=\"dataframe\">\n",
       "  <thead>\n",
       "    <tr style=\"text-align: right;\">\n",
       "      <th></th>\n",
       "      <th>School Type</th>\n",
       "      <th>Total Students</th>\n",
       "      <th>Total School Budget</th>\n",
       "      <th>Per Student Budget</th>\n",
       "      <th>Average Math Score</th>\n",
       "      <th>Average Reading Score</th>\n",
       "      <th>% Passing Math</th>\n",
       "      <th>% Passing Reading</th>\n",
       "      <th>% Overall Passing</th>\n",
       "    </tr>\n",
       "  </thead>\n",
       "  <tbody>\n",
       "    <tr>\n",
       "      <th>0</th>\n",
       "      <td>school_name\n",
       "Huang High School     District\n",
       "Hua...</td>\n",
       "      <td>school_name\n",
       "Bailey High School       4976\n",
       "Cabr...</td>\n",
       "      <td>school_name\n",
       "Huang High School     1910635\n",
       "Huan...</td>\n",
       "      <td>school_name\n",
       "Bailey High School    628.0\n",
       "Bailey...</td>\n",
       "      <td>school_name\n",
       "Bailey High School       77.048432...</td>\n",
       "      <td>school_name\n",
       "Bailey High School       81.033963...</td>\n",
       "      <td>school_name\n",
       "Bailey High School       66.680064...</td>\n",
       "      <td>school_name\n",
       "Bailey High School       81.933280...</td>\n",
       "      <td>school_name\n",
       "Bailey High School       54.642283...</td>\n",
       "    </tr>\n",
       "  </tbody>\n",
       "</table>\n",
       "</div>"
      ],
      "text/plain": [
       "                                         School Type  \\\n",
       "0  school_name\n",
       "Huang High School     District\n",
       "Hua...   \n",
       "\n",
       "                                      Total Students  \\\n",
       "0  school_name\n",
       "Bailey High School       4976\n",
       "Cabr...   \n",
       "\n",
       "                                 Total School Budget  \\\n",
       "0  school_name\n",
       "Huang High School     1910635\n",
       "Huan...   \n",
       "\n",
       "                                  Per Student Budget  \\\n",
       "0  school_name\n",
       "Bailey High School    628.0\n",
       "Bailey...   \n",
       "\n",
       "                                  Average Math Score  \\\n",
       "0  school_name\n",
       "Bailey High School       77.048432...   \n",
       "\n",
       "                               Average Reading Score  \\\n",
       "0  school_name\n",
       "Bailey High School       81.033963...   \n",
       "\n",
       "                                      % Passing Math  \\\n",
       "0  school_name\n",
       "Bailey High School       66.680064...   \n",
       "\n",
       "                                   % Passing Reading  \\\n",
       "0  school_name\n",
       "Bailey High School       81.933280...   \n",
       "\n",
       "                                   % Overall Passing  \n",
       "0  school_name\n",
       "Bailey High School       54.642283...  "
      ]
     },
     "execution_count": 260,
     "metadata": {},
     "output_type": "execute_result"
    }
   ],
   "source": [
    "# show bottom five overall performing schools\n",
    "bot_five = school_summary_df.sort_values(by='% Overall Passing')\n",
    "\n",
    "bot_five.tail(5)"
   ]
  },
  {
   "cell_type": "markdown",
   "metadata": {
    "collapsed": true
   },
   "source": [
    "## Math Scores by Grade"
   ]
  },
  {
   "cell_type": "markdown",
   "metadata": {},
   "source": [
    "* Create a table that lists the average Reading Score for students of each grade level (9th, 10th, 11th, 12th) at each school.\n",
    "\n",
    "  * Create a pandas series for each grade. Hint: use a conditional statement.\n",
    "  \n",
    "  * Group each series by school\n",
    "  \n",
    "  * Combine the series into a dataframe\n",
    "  \n",
    "  * Optional: give the displayed data cleaner formatting"
   ]
  },
  {
   "cell_type": "code",
   "execution_count": 261,
   "metadata": {},
   "outputs": [
    {
     "data": {
      "text/plain": [
       "array(['9th', '12th', '11th', '10th'], dtype=object)"
      ]
     },
     "execution_count": 261,
     "metadata": {},
     "output_type": "execute_result"
    }
   ],
   "source": [
    "# check existing grades\n",
    "df['grade'].unique()"
   ]
  },
  {
   "cell_type": "code",
   "execution_count": 262,
   "metadata": {},
   "outputs": [],
   "source": [
    "# create a series for each grade average math scores\n",
    "math_9th = df.loc[df[\"grade\"] == '9th'].groupby('school_name')['math_score'].mean()\n",
    "math_10th = df.loc[df[\"grade\"] == '10th'].groupby('school_name')['math_score'].mean()\n",
    "math_11th = df.loc[df[\"grade\"] == '11th'].groupby('school_name')['math_score'].mean()\n",
    "math_12th = df.loc[df[\"grade\"] == '12th'].groupby('school_name')['math_score'].mean()"
   ]
  },
  {
   "cell_type": "code",
   "execution_count": 263,
   "metadata": {},
   "outputs": [],
   "source": [
    "# create dataframe to hold scores by grade\n",
    "math_by_grade = pd.DataFrame({'9th': math_9th,\n",
    "                            '10th': math_10th,\n",
    "                            '11th': math_11th,\n",
    "                            '12th': math_12th\n",
    "                            })"
   ]
  },
  {
   "cell_type": "code",
   "execution_count": 264,
   "metadata": {},
   "outputs": [
    {
     "data": {
      "text/html": [
       "<div>\n",
       "<style scoped>\n",
       "    .dataframe tbody tr th:only-of-type {\n",
       "        vertical-align: middle;\n",
       "    }\n",
       "\n",
       "    .dataframe tbody tr th {\n",
       "        vertical-align: top;\n",
       "    }\n",
       "\n",
       "    .dataframe thead th {\n",
       "        text-align: right;\n",
       "    }\n",
       "</style>\n",
       "<table border=\"1\" class=\"dataframe\">\n",
       "  <thead>\n",
       "    <tr style=\"text-align: right;\">\n",
       "      <th></th>\n",
       "      <th>9th</th>\n",
       "      <th>10th</th>\n",
       "      <th>11th</th>\n",
       "      <th>12th</th>\n",
       "    </tr>\n",
       "    <tr>\n",
       "      <th>school_name</th>\n",
       "      <th></th>\n",
       "      <th></th>\n",
       "      <th></th>\n",
       "      <th></th>\n",
       "    </tr>\n",
       "  </thead>\n",
       "  <tbody>\n",
       "    <tr>\n",
       "      <th>Bailey High School</th>\n",
       "      <td>77.083676</td>\n",
       "      <td>76.996772</td>\n",
       "      <td>77.515588</td>\n",
       "      <td>76.492218</td>\n",
       "    </tr>\n",
       "    <tr>\n",
       "      <th>Cabrera High School</th>\n",
       "      <td>83.094697</td>\n",
       "      <td>83.154506</td>\n",
       "      <td>82.765560</td>\n",
       "      <td>83.277487</td>\n",
       "    </tr>\n",
       "    <tr>\n",
       "      <th>Figueroa High School</th>\n",
       "      <td>76.403037</td>\n",
       "      <td>76.539974</td>\n",
       "      <td>76.884344</td>\n",
       "      <td>77.151369</td>\n",
       "    </tr>\n",
       "    <tr>\n",
       "      <th>Ford High School</th>\n",
       "      <td>77.361345</td>\n",
       "      <td>77.672316</td>\n",
       "      <td>76.918058</td>\n",
       "      <td>76.179963</td>\n",
       "    </tr>\n",
       "    <tr>\n",
       "      <th>Griffin High School</th>\n",
       "      <td>82.044010</td>\n",
       "      <td>84.229064</td>\n",
       "      <td>83.842105</td>\n",
       "      <td>83.356164</td>\n",
       "    </tr>\n",
       "    <tr>\n",
       "      <th>Hernandez High School</th>\n",
       "      <td>77.438495</td>\n",
       "      <td>77.337408</td>\n",
       "      <td>77.136029</td>\n",
       "      <td>77.186567</td>\n",
       "    </tr>\n",
       "    <tr>\n",
       "      <th>Holden High School</th>\n",
       "      <td>83.787402</td>\n",
       "      <td>83.429825</td>\n",
       "      <td>85.000000</td>\n",
       "      <td>82.855422</td>\n",
       "    </tr>\n",
       "    <tr>\n",
       "      <th>Huang High School</th>\n",
       "      <td>77.027251</td>\n",
       "      <td>75.908735</td>\n",
       "      <td>76.446602</td>\n",
       "      <td>77.225641</td>\n",
       "    </tr>\n",
       "    <tr>\n",
       "      <th>Johnson High School</th>\n",
       "      <td>77.187857</td>\n",
       "      <td>76.691117</td>\n",
       "      <td>77.491653</td>\n",
       "      <td>76.863248</td>\n",
       "    </tr>\n",
       "    <tr>\n",
       "      <th>Pena High School</th>\n",
       "      <td>83.625455</td>\n",
       "      <td>83.372000</td>\n",
       "      <td>84.328125</td>\n",
       "      <td>84.121547</td>\n",
       "    </tr>\n",
       "    <tr>\n",
       "      <th>Rodriguez High School</th>\n",
       "      <td>76.859966</td>\n",
       "      <td>76.612500</td>\n",
       "      <td>76.395626</td>\n",
       "      <td>77.690748</td>\n",
       "    </tr>\n",
       "    <tr>\n",
       "      <th>Shelton High School</th>\n",
       "      <td>83.420755</td>\n",
       "      <td>82.917411</td>\n",
       "      <td>83.383495</td>\n",
       "      <td>83.778976</td>\n",
       "    </tr>\n",
       "    <tr>\n",
       "      <th>Thomas High School</th>\n",
       "      <td>83.590022</td>\n",
       "      <td>83.087886</td>\n",
       "      <td>83.498795</td>\n",
       "      <td>83.497041</td>\n",
       "    </tr>\n",
       "    <tr>\n",
       "      <th>Wilson High School</th>\n",
       "      <td>83.085578</td>\n",
       "      <td>83.724422</td>\n",
       "      <td>83.195326</td>\n",
       "      <td>83.035794</td>\n",
       "    </tr>\n",
       "    <tr>\n",
       "      <th>Wright High School</th>\n",
       "      <td>83.264706</td>\n",
       "      <td>84.010288</td>\n",
       "      <td>83.836782</td>\n",
       "      <td>83.644986</td>\n",
       "    </tr>\n",
       "  </tbody>\n",
       "</table>\n",
       "</div>"
      ],
      "text/plain": [
       "                             9th       10th       11th       12th\n",
       "school_name                                                      \n",
       "Bailey High School     77.083676  76.996772  77.515588  76.492218\n",
       "Cabrera High School    83.094697  83.154506  82.765560  83.277487\n",
       "Figueroa High School   76.403037  76.539974  76.884344  77.151369\n",
       "Ford High School       77.361345  77.672316  76.918058  76.179963\n",
       "Griffin High School    82.044010  84.229064  83.842105  83.356164\n",
       "Hernandez High School  77.438495  77.337408  77.136029  77.186567\n",
       "Holden High School     83.787402  83.429825  85.000000  82.855422\n",
       "Huang High School      77.027251  75.908735  76.446602  77.225641\n",
       "Johnson High School    77.187857  76.691117  77.491653  76.863248\n",
       "Pena High School       83.625455  83.372000  84.328125  84.121547\n",
       "Rodriguez High School  76.859966  76.612500  76.395626  77.690748\n",
       "Shelton High School    83.420755  82.917411  83.383495  83.778976\n",
       "Thomas High School     83.590022  83.087886  83.498795  83.497041\n",
       "Wilson High School     83.085578  83.724422  83.195326  83.035794\n",
       "Wright High School     83.264706  84.010288  83.836782  83.644986"
      ]
     },
     "execution_count": 264,
     "metadata": {},
     "output_type": "execute_result"
    }
   ],
   "source": [
    "# fix array order\n",
    "math_by_grade = math_by_grade[['9th', '10th', '11th', '12th']]\n",
    "\n",
    "math_by_grade"
   ]
  },
  {
   "cell_type": "code",
   "execution_count": 265,
   "metadata": {},
   "outputs": [
    {
     "data": {
      "text/html": [
       "<style  type=\"text/css\" >\n",
       "</style><table id=\"T_a9028d30_c602_11ea_9bb1_0c8bfd5ff595\" ><thead>    <tr>        <th class=\"blank level0\" ></th>        <th class=\"col_heading level0 col0\" >9th</th>        <th class=\"col_heading level0 col1\" >10th</th>        <th class=\"col_heading level0 col2\" >11th</th>        <th class=\"col_heading level0 col3\" >12th</th>    </tr>    <tr>        <th class=\"index_name level0\" >school_name</th>        <th class=\"blank\" ></th>        <th class=\"blank\" ></th>        <th class=\"blank\" ></th>        <th class=\"blank\" ></th>    </tr></thead><tbody>\n",
       "                <tr>\n",
       "                        <th id=\"T_a9028d30_c602_11ea_9bb1_0c8bfd5ff595level0_row0\" class=\"row_heading level0 row0\" >Bailey High School</th>\n",
       "                        <td id=\"T_a9028d30_c602_11ea_9bb1_0c8bfd5ff595row0_col0\" class=\"data row0 col0\" >77.1</td>\n",
       "                        <td id=\"T_a9028d30_c602_11ea_9bb1_0c8bfd5ff595row0_col1\" class=\"data row0 col1\" >77.0</td>\n",
       "                        <td id=\"T_a9028d30_c602_11ea_9bb1_0c8bfd5ff595row0_col2\" class=\"data row0 col2\" >77.5</td>\n",
       "                        <td id=\"T_a9028d30_c602_11ea_9bb1_0c8bfd5ff595row0_col3\" class=\"data row0 col3\" >76.5</td>\n",
       "            </tr>\n",
       "            <tr>\n",
       "                        <th id=\"T_a9028d30_c602_11ea_9bb1_0c8bfd5ff595level0_row1\" class=\"row_heading level0 row1\" >Cabrera High School</th>\n",
       "                        <td id=\"T_a9028d30_c602_11ea_9bb1_0c8bfd5ff595row1_col0\" class=\"data row1 col0\" >83.1</td>\n",
       "                        <td id=\"T_a9028d30_c602_11ea_9bb1_0c8bfd5ff595row1_col1\" class=\"data row1 col1\" >83.2</td>\n",
       "                        <td id=\"T_a9028d30_c602_11ea_9bb1_0c8bfd5ff595row1_col2\" class=\"data row1 col2\" >82.8</td>\n",
       "                        <td id=\"T_a9028d30_c602_11ea_9bb1_0c8bfd5ff595row1_col3\" class=\"data row1 col3\" >83.3</td>\n",
       "            </tr>\n",
       "            <tr>\n",
       "                        <th id=\"T_a9028d30_c602_11ea_9bb1_0c8bfd5ff595level0_row2\" class=\"row_heading level0 row2\" >Figueroa High School</th>\n",
       "                        <td id=\"T_a9028d30_c602_11ea_9bb1_0c8bfd5ff595row2_col0\" class=\"data row2 col0\" >76.4</td>\n",
       "                        <td id=\"T_a9028d30_c602_11ea_9bb1_0c8bfd5ff595row2_col1\" class=\"data row2 col1\" >76.5</td>\n",
       "                        <td id=\"T_a9028d30_c602_11ea_9bb1_0c8bfd5ff595row2_col2\" class=\"data row2 col2\" >76.9</td>\n",
       "                        <td id=\"T_a9028d30_c602_11ea_9bb1_0c8bfd5ff595row2_col3\" class=\"data row2 col3\" >77.2</td>\n",
       "            </tr>\n",
       "            <tr>\n",
       "                        <th id=\"T_a9028d30_c602_11ea_9bb1_0c8bfd5ff595level0_row3\" class=\"row_heading level0 row3\" >Ford High School</th>\n",
       "                        <td id=\"T_a9028d30_c602_11ea_9bb1_0c8bfd5ff595row3_col0\" class=\"data row3 col0\" >77.4</td>\n",
       "                        <td id=\"T_a9028d30_c602_11ea_9bb1_0c8bfd5ff595row3_col1\" class=\"data row3 col1\" >77.7</td>\n",
       "                        <td id=\"T_a9028d30_c602_11ea_9bb1_0c8bfd5ff595row3_col2\" class=\"data row3 col2\" >76.9</td>\n",
       "                        <td id=\"T_a9028d30_c602_11ea_9bb1_0c8bfd5ff595row3_col3\" class=\"data row3 col3\" >76.2</td>\n",
       "            </tr>\n",
       "            <tr>\n",
       "                        <th id=\"T_a9028d30_c602_11ea_9bb1_0c8bfd5ff595level0_row4\" class=\"row_heading level0 row4\" >Griffin High School</th>\n",
       "                        <td id=\"T_a9028d30_c602_11ea_9bb1_0c8bfd5ff595row4_col0\" class=\"data row4 col0\" >82.0</td>\n",
       "                        <td id=\"T_a9028d30_c602_11ea_9bb1_0c8bfd5ff595row4_col1\" class=\"data row4 col1\" >84.2</td>\n",
       "                        <td id=\"T_a9028d30_c602_11ea_9bb1_0c8bfd5ff595row4_col2\" class=\"data row4 col2\" >83.8</td>\n",
       "                        <td id=\"T_a9028d30_c602_11ea_9bb1_0c8bfd5ff595row4_col3\" class=\"data row4 col3\" >83.4</td>\n",
       "            </tr>\n",
       "            <tr>\n",
       "                        <th id=\"T_a9028d30_c602_11ea_9bb1_0c8bfd5ff595level0_row5\" class=\"row_heading level0 row5\" >Hernandez High School</th>\n",
       "                        <td id=\"T_a9028d30_c602_11ea_9bb1_0c8bfd5ff595row5_col0\" class=\"data row5 col0\" >77.4</td>\n",
       "                        <td id=\"T_a9028d30_c602_11ea_9bb1_0c8bfd5ff595row5_col1\" class=\"data row5 col1\" >77.3</td>\n",
       "                        <td id=\"T_a9028d30_c602_11ea_9bb1_0c8bfd5ff595row5_col2\" class=\"data row5 col2\" >77.1</td>\n",
       "                        <td id=\"T_a9028d30_c602_11ea_9bb1_0c8bfd5ff595row5_col3\" class=\"data row5 col3\" >77.2</td>\n",
       "            </tr>\n",
       "            <tr>\n",
       "                        <th id=\"T_a9028d30_c602_11ea_9bb1_0c8bfd5ff595level0_row6\" class=\"row_heading level0 row6\" >Holden High School</th>\n",
       "                        <td id=\"T_a9028d30_c602_11ea_9bb1_0c8bfd5ff595row6_col0\" class=\"data row6 col0\" >83.8</td>\n",
       "                        <td id=\"T_a9028d30_c602_11ea_9bb1_0c8bfd5ff595row6_col1\" class=\"data row6 col1\" >83.4</td>\n",
       "                        <td id=\"T_a9028d30_c602_11ea_9bb1_0c8bfd5ff595row6_col2\" class=\"data row6 col2\" >85.0</td>\n",
       "                        <td id=\"T_a9028d30_c602_11ea_9bb1_0c8bfd5ff595row6_col3\" class=\"data row6 col3\" >82.9</td>\n",
       "            </tr>\n",
       "            <tr>\n",
       "                        <th id=\"T_a9028d30_c602_11ea_9bb1_0c8bfd5ff595level0_row7\" class=\"row_heading level0 row7\" >Huang High School</th>\n",
       "                        <td id=\"T_a9028d30_c602_11ea_9bb1_0c8bfd5ff595row7_col0\" class=\"data row7 col0\" >77.0</td>\n",
       "                        <td id=\"T_a9028d30_c602_11ea_9bb1_0c8bfd5ff595row7_col1\" class=\"data row7 col1\" >75.9</td>\n",
       "                        <td id=\"T_a9028d30_c602_11ea_9bb1_0c8bfd5ff595row7_col2\" class=\"data row7 col2\" >76.4</td>\n",
       "                        <td id=\"T_a9028d30_c602_11ea_9bb1_0c8bfd5ff595row7_col3\" class=\"data row7 col3\" >77.2</td>\n",
       "            </tr>\n",
       "            <tr>\n",
       "                        <th id=\"T_a9028d30_c602_11ea_9bb1_0c8bfd5ff595level0_row8\" class=\"row_heading level0 row8\" >Johnson High School</th>\n",
       "                        <td id=\"T_a9028d30_c602_11ea_9bb1_0c8bfd5ff595row8_col0\" class=\"data row8 col0\" >77.2</td>\n",
       "                        <td id=\"T_a9028d30_c602_11ea_9bb1_0c8bfd5ff595row8_col1\" class=\"data row8 col1\" >76.7</td>\n",
       "                        <td id=\"T_a9028d30_c602_11ea_9bb1_0c8bfd5ff595row8_col2\" class=\"data row8 col2\" >77.5</td>\n",
       "                        <td id=\"T_a9028d30_c602_11ea_9bb1_0c8bfd5ff595row8_col3\" class=\"data row8 col3\" >76.9</td>\n",
       "            </tr>\n",
       "            <tr>\n",
       "                        <th id=\"T_a9028d30_c602_11ea_9bb1_0c8bfd5ff595level0_row9\" class=\"row_heading level0 row9\" >Pena High School</th>\n",
       "                        <td id=\"T_a9028d30_c602_11ea_9bb1_0c8bfd5ff595row9_col0\" class=\"data row9 col0\" >83.6</td>\n",
       "                        <td id=\"T_a9028d30_c602_11ea_9bb1_0c8bfd5ff595row9_col1\" class=\"data row9 col1\" >83.4</td>\n",
       "                        <td id=\"T_a9028d30_c602_11ea_9bb1_0c8bfd5ff595row9_col2\" class=\"data row9 col2\" >84.3</td>\n",
       "                        <td id=\"T_a9028d30_c602_11ea_9bb1_0c8bfd5ff595row9_col3\" class=\"data row9 col3\" >84.1</td>\n",
       "            </tr>\n",
       "            <tr>\n",
       "                        <th id=\"T_a9028d30_c602_11ea_9bb1_0c8bfd5ff595level0_row10\" class=\"row_heading level0 row10\" >Rodriguez High School</th>\n",
       "                        <td id=\"T_a9028d30_c602_11ea_9bb1_0c8bfd5ff595row10_col0\" class=\"data row10 col0\" >76.9</td>\n",
       "                        <td id=\"T_a9028d30_c602_11ea_9bb1_0c8bfd5ff595row10_col1\" class=\"data row10 col1\" >76.6</td>\n",
       "                        <td id=\"T_a9028d30_c602_11ea_9bb1_0c8bfd5ff595row10_col2\" class=\"data row10 col2\" >76.4</td>\n",
       "                        <td id=\"T_a9028d30_c602_11ea_9bb1_0c8bfd5ff595row10_col3\" class=\"data row10 col3\" >77.7</td>\n",
       "            </tr>\n",
       "            <tr>\n",
       "                        <th id=\"T_a9028d30_c602_11ea_9bb1_0c8bfd5ff595level0_row11\" class=\"row_heading level0 row11\" >Shelton High School</th>\n",
       "                        <td id=\"T_a9028d30_c602_11ea_9bb1_0c8bfd5ff595row11_col0\" class=\"data row11 col0\" >83.4</td>\n",
       "                        <td id=\"T_a9028d30_c602_11ea_9bb1_0c8bfd5ff595row11_col1\" class=\"data row11 col1\" >82.9</td>\n",
       "                        <td id=\"T_a9028d30_c602_11ea_9bb1_0c8bfd5ff595row11_col2\" class=\"data row11 col2\" >83.4</td>\n",
       "                        <td id=\"T_a9028d30_c602_11ea_9bb1_0c8bfd5ff595row11_col3\" class=\"data row11 col3\" >83.8</td>\n",
       "            </tr>\n",
       "            <tr>\n",
       "                        <th id=\"T_a9028d30_c602_11ea_9bb1_0c8bfd5ff595level0_row12\" class=\"row_heading level0 row12\" >Thomas High School</th>\n",
       "                        <td id=\"T_a9028d30_c602_11ea_9bb1_0c8bfd5ff595row12_col0\" class=\"data row12 col0\" >83.6</td>\n",
       "                        <td id=\"T_a9028d30_c602_11ea_9bb1_0c8bfd5ff595row12_col1\" class=\"data row12 col1\" >83.1</td>\n",
       "                        <td id=\"T_a9028d30_c602_11ea_9bb1_0c8bfd5ff595row12_col2\" class=\"data row12 col2\" >83.5</td>\n",
       "                        <td id=\"T_a9028d30_c602_11ea_9bb1_0c8bfd5ff595row12_col3\" class=\"data row12 col3\" >83.5</td>\n",
       "            </tr>\n",
       "            <tr>\n",
       "                        <th id=\"T_a9028d30_c602_11ea_9bb1_0c8bfd5ff595level0_row13\" class=\"row_heading level0 row13\" >Wilson High School</th>\n",
       "                        <td id=\"T_a9028d30_c602_11ea_9bb1_0c8bfd5ff595row13_col0\" class=\"data row13 col0\" >83.1</td>\n",
       "                        <td id=\"T_a9028d30_c602_11ea_9bb1_0c8bfd5ff595row13_col1\" class=\"data row13 col1\" >83.7</td>\n",
       "                        <td id=\"T_a9028d30_c602_11ea_9bb1_0c8bfd5ff595row13_col2\" class=\"data row13 col2\" >83.2</td>\n",
       "                        <td id=\"T_a9028d30_c602_11ea_9bb1_0c8bfd5ff595row13_col3\" class=\"data row13 col3\" >83.0</td>\n",
       "            </tr>\n",
       "            <tr>\n",
       "                        <th id=\"T_a9028d30_c602_11ea_9bb1_0c8bfd5ff595level0_row14\" class=\"row_heading level0 row14\" >Wright High School</th>\n",
       "                        <td id=\"T_a9028d30_c602_11ea_9bb1_0c8bfd5ff595row14_col0\" class=\"data row14 col0\" >83.3</td>\n",
       "                        <td id=\"T_a9028d30_c602_11ea_9bb1_0c8bfd5ff595row14_col1\" class=\"data row14 col1\" >84.0</td>\n",
       "                        <td id=\"T_a9028d30_c602_11ea_9bb1_0c8bfd5ff595row14_col2\" class=\"data row14 col2\" >83.8</td>\n",
       "                        <td id=\"T_a9028d30_c602_11ea_9bb1_0c8bfd5ff595row14_col3\" class=\"data row14 col3\" >83.6</td>\n",
       "            </tr>\n",
       "    </tbody></table>"
      ],
      "text/plain": [
       "<pandas.io.formats.style.Styler at 0x1da851800b8>"
      ]
     },
     "execution_count": 265,
     "metadata": {},
     "output_type": "execute_result"
    }
   ],
   "source": [
    "# clean up format and display results\n",
    "math_by_grade.style.format({'9th': '{:.1f}', \n",
    "                            \"10th\": '{:.1f}', \n",
    "                            \"11th\": \"{:.1f}\", \n",
    "                            \"12th\": \"{:.1f}\"\n",
    "                            })"
   ]
  },
  {
   "cell_type": "code",
   "execution_count": null,
   "metadata": {},
   "outputs": [],
   "source": []
  },
  {
   "cell_type": "raw",
   "metadata": {},
   "source": [
    "# Reading Score by Grade "
   ]
  },
  {
   "cell_type": "markdown",
   "metadata": {},
   "source": [
    "* Perform the same operations as above for reading scores"
   ]
  },
  {
   "cell_type": "code",
   "execution_count": 266,
   "metadata": {},
   "outputs": [],
   "source": [
    "#### change below to reading "
   ]
  },
  {
   "cell_type": "code",
   "execution_count": 267,
   "metadata": {},
   "outputs": [],
   "source": [
    "# create a series for each grade average math scores\n",
    "reading_9th = df.loc[df[\"grade\"] == '9th'].groupby('school_name')['reading_score'].mean()\n",
    "reading_10th = df.loc[df[\"grade\"] == '10th'].groupby('school_name')['reading_score'].mean()\n",
    "reading_11th = df.loc[df[\"grade\"] == '11th'].groupby('school_name')['reading_score'].mean()\n",
    "reading_12th = df.loc[df[\"grade\"] == '12th'].groupby('school_name')['reading_score'].mean()"
   ]
  },
  {
   "cell_type": "code",
   "execution_count": 268,
   "metadata": {},
   "outputs": [],
   "source": [
    "# create dataframe to hold scores by grade\n",
    "reading_by_grade = pd.DataFrame({'9th': reading_9th,\n",
    "                            '10th': reading_10th,\n",
    "                            '11th': reading_11th,\n",
    "                            '12th': reading_12th\n",
    "                            })"
   ]
  },
  {
   "cell_type": "code",
   "execution_count": 269,
   "metadata": {},
   "outputs": [
    {
     "data": {
      "text/html": [
       "<div>\n",
       "<style scoped>\n",
       "    .dataframe tbody tr th:only-of-type {\n",
       "        vertical-align: middle;\n",
       "    }\n",
       "\n",
       "    .dataframe tbody tr th {\n",
       "        vertical-align: top;\n",
       "    }\n",
       "\n",
       "    .dataframe thead th {\n",
       "        text-align: right;\n",
       "    }\n",
       "</style>\n",
       "<table border=\"1\" class=\"dataframe\">\n",
       "  <thead>\n",
       "    <tr style=\"text-align: right;\">\n",
       "      <th></th>\n",
       "      <th>9th</th>\n",
       "      <th>10th</th>\n",
       "      <th>11th</th>\n",
       "      <th>12th</th>\n",
       "    </tr>\n",
       "    <tr>\n",
       "      <th>school_name</th>\n",
       "      <th></th>\n",
       "      <th></th>\n",
       "      <th></th>\n",
       "      <th></th>\n",
       "    </tr>\n",
       "  </thead>\n",
       "  <tbody>\n",
       "    <tr>\n",
       "      <th>Bailey High School</th>\n",
       "      <td>81.303155</td>\n",
       "      <td>80.907183</td>\n",
       "      <td>80.945643</td>\n",
       "      <td>80.912451</td>\n",
       "    </tr>\n",
       "    <tr>\n",
       "      <th>Cabrera High School</th>\n",
       "      <td>83.676136</td>\n",
       "      <td>84.253219</td>\n",
       "      <td>83.788382</td>\n",
       "      <td>84.287958</td>\n",
       "    </tr>\n",
       "    <tr>\n",
       "      <th>Figueroa High School</th>\n",
       "      <td>81.198598</td>\n",
       "      <td>81.408912</td>\n",
       "      <td>80.640339</td>\n",
       "      <td>81.384863</td>\n",
       "    </tr>\n",
       "    <tr>\n",
       "      <th>Ford High School</th>\n",
       "      <td>80.632653</td>\n",
       "      <td>81.262712</td>\n",
       "      <td>80.403642</td>\n",
       "      <td>80.662338</td>\n",
       "    </tr>\n",
       "    <tr>\n",
       "      <th>Griffin High School</th>\n",
       "      <td>83.369193</td>\n",
       "      <td>83.706897</td>\n",
       "      <td>84.288089</td>\n",
       "      <td>84.013699</td>\n",
       "    </tr>\n",
       "    <tr>\n",
       "      <th>Hernandez High School</th>\n",
       "      <td>80.866860</td>\n",
       "      <td>80.660147</td>\n",
       "      <td>81.396140</td>\n",
       "      <td>80.857143</td>\n",
       "    </tr>\n",
       "    <tr>\n",
       "      <th>Holden High School</th>\n",
       "      <td>83.677165</td>\n",
       "      <td>83.324561</td>\n",
       "      <td>83.815534</td>\n",
       "      <td>84.698795</td>\n",
       "    </tr>\n",
       "    <tr>\n",
       "      <th>Huang High School</th>\n",
       "      <td>81.290284</td>\n",
       "      <td>81.512386</td>\n",
       "      <td>81.417476</td>\n",
       "      <td>80.305983</td>\n",
       "    </tr>\n",
       "    <tr>\n",
       "      <th>Johnson High School</th>\n",
       "      <td>81.260714</td>\n",
       "      <td>80.773431</td>\n",
       "      <td>80.616027</td>\n",
       "      <td>81.227564</td>\n",
       "    </tr>\n",
       "    <tr>\n",
       "      <th>Pena High School</th>\n",
       "      <td>83.807273</td>\n",
       "      <td>83.612000</td>\n",
       "      <td>84.335938</td>\n",
       "      <td>84.591160</td>\n",
       "    </tr>\n",
       "    <tr>\n",
       "      <th>Rodriguez High School</th>\n",
       "      <td>80.993127</td>\n",
       "      <td>80.629808</td>\n",
       "      <td>80.864811</td>\n",
       "      <td>80.376426</td>\n",
       "    </tr>\n",
       "    <tr>\n",
       "      <th>Shelton High School</th>\n",
       "      <td>84.122642</td>\n",
       "      <td>83.441964</td>\n",
       "      <td>84.373786</td>\n",
       "      <td>82.781671</td>\n",
       "    </tr>\n",
       "    <tr>\n",
       "      <th>Thomas High School</th>\n",
       "      <td>83.728850</td>\n",
       "      <td>84.254157</td>\n",
       "      <td>83.585542</td>\n",
       "      <td>83.831361</td>\n",
       "    </tr>\n",
       "    <tr>\n",
       "      <th>Wilson High School</th>\n",
       "      <td>83.939778</td>\n",
       "      <td>84.021452</td>\n",
       "      <td>83.764608</td>\n",
       "      <td>84.317673</td>\n",
       "    </tr>\n",
       "    <tr>\n",
       "      <th>Wright High School</th>\n",
       "      <td>83.833333</td>\n",
       "      <td>83.812757</td>\n",
       "      <td>84.156322</td>\n",
       "      <td>84.073171</td>\n",
       "    </tr>\n",
       "  </tbody>\n",
       "</table>\n",
       "</div>"
      ],
      "text/plain": [
       "                             9th       10th       11th       12th\n",
       "school_name                                                      \n",
       "Bailey High School     81.303155  80.907183  80.945643  80.912451\n",
       "Cabrera High School    83.676136  84.253219  83.788382  84.287958\n",
       "Figueroa High School   81.198598  81.408912  80.640339  81.384863\n",
       "Ford High School       80.632653  81.262712  80.403642  80.662338\n",
       "Griffin High School    83.369193  83.706897  84.288089  84.013699\n",
       "Hernandez High School  80.866860  80.660147  81.396140  80.857143\n",
       "Holden High School     83.677165  83.324561  83.815534  84.698795\n",
       "Huang High School      81.290284  81.512386  81.417476  80.305983\n",
       "Johnson High School    81.260714  80.773431  80.616027  81.227564\n",
       "Pena High School       83.807273  83.612000  84.335938  84.591160\n",
       "Rodriguez High School  80.993127  80.629808  80.864811  80.376426\n",
       "Shelton High School    84.122642  83.441964  84.373786  82.781671\n",
       "Thomas High School     83.728850  84.254157  83.585542  83.831361\n",
       "Wilson High School     83.939778  84.021452  83.764608  84.317673\n",
       "Wright High School     83.833333  83.812757  84.156322  84.073171"
      ]
     },
     "execution_count": 269,
     "metadata": {},
     "output_type": "execute_result"
    }
   ],
   "source": [
    "# fix array order\n",
    "reading_by_grade = reading_by_grade[['9th', '10th', '11th', '12th']]\n",
    "\n",
    "reading_by_grade"
   ]
  },
  {
   "cell_type": "code",
   "execution_count": 270,
   "metadata": {},
   "outputs": [
    {
     "data": {
      "text/html": [
       "<style  type=\"text/css\" >\n",
       "</style><table id=\"T_b222aa66_c602_11ea_8fcd_0c8bfd5ff595\" ><thead>    <tr>        <th class=\"blank level0\" ></th>        <th class=\"col_heading level0 col0\" >9th</th>        <th class=\"col_heading level0 col1\" >10th</th>        <th class=\"col_heading level0 col2\" >11th</th>        <th class=\"col_heading level0 col3\" >12th</th>    </tr>    <tr>        <th class=\"index_name level0\" >school_name</th>        <th class=\"blank\" ></th>        <th class=\"blank\" ></th>        <th class=\"blank\" ></th>        <th class=\"blank\" ></th>    </tr></thead><tbody>\n",
       "                <tr>\n",
       "                        <th id=\"T_b222aa66_c602_11ea_8fcd_0c8bfd5ff595level0_row0\" class=\"row_heading level0 row0\" >Bailey High School</th>\n",
       "                        <td id=\"T_b222aa66_c602_11ea_8fcd_0c8bfd5ff595row0_col0\" class=\"data row0 col0\" >81.3</td>\n",
       "                        <td id=\"T_b222aa66_c602_11ea_8fcd_0c8bfd5ff595row0_col1\" class=\"data row0 col1\" >80.9</td>\n",
       "                        <td id=\"T_b222aa66_c602_11ea_8fcd_0c8bfd5ff595row0_col2\" class=\"data row0 col2\" >80.9</td>\n",
       "                        <td id=\"T_b222aa66_c602_11ea_8fcd_0c8bfd5ff595row0_col3\" class=\"data row0 col3\" >80.9</td>\n",
       "            </tr>\n",
       "            <tr>\n",
       "                        <th id=\"T_b222aa66_c602_11ea_8fcd_0c8bfd5ff595level0_row1\" class=\"row_heading level0 row1\" >Cabrera High School</th>\n",
       "                        <td id=\"T_b222aa66_c602_11ea_8fcd_0c8bfd5ff595row1_col0\" class=\"data row1 col0\" >83.7</td>\n",
       "                        <td id=\"T_b222aa66_c602_11ea_8fcd_0c8bfd5ff595row1_col1\" class=\"data row1 col1\" >84.3</td>\n",
       "                        <td id=\"T_b222aa66_c602_11ea_8fcd_0c8bfd5ff595row1_col2\" class=\"data row1 col2\" >83.8</td>\n",
       "                        <td id=\"T_b222aa66_c602_11ea_8fcd_0c8bfd5ff595row1_col3\" class=\"data row1 col3\" >84.3</td>\n",
       "            </tr>\n",
       "            <tr>\n",
       "                        <th id=\"T_b222aa66_c602_11ea_8fcd_0c8bfd5ff595level0_row2\" class=\"row_heading level0 row2\" >Figueroa High School</th>\n",
       "                        <td id=\"T_b222aa66_c602_11ea_8fcd_0c8bfd5ff595row2_col0\" class=\"data row2 col0\" >81.2</td>\n",
       "                        <td id=\"T_b222aa66_c602_11ea_8fcd_0c8bfd5ff595row2_col1\" class=\"data row2 col1\" >81.4</td>\n",
       "                        <td id=\"T_b222aa66_c602_11ea_8fcd_0c8bfd5ff595row2_col2\" class=\"data row2 col2\" >80.6</td>\n",
       "                        <td id=\"T_b222aa66_c602_11ea_8fcd_0c8bfd5ff595row2_col3\" class=\"data row2 col3\" >81.4</td>\n",
       "            </tr>\n",
       "            <tr>\n",
       "                        <th id=\"T_b222aa66_c602_11ea_8fcd_0c8bfd5ff595level0_row3\" class=\"row_heading level0 row3\" >Ford High School</th>\n",
       "                        <td id=\"T_b222aa66_c602_11ea_8fcd_0c8bfd5ff595row3_col0\" class=\"data row3 col0\" >80.6</td>\n",
       "                        <td id=\"T_b222aa66_c602_11ea_8fcd_0c8bfd5ff595row3_col1\" class=\"data row3 col1\" >81.3</td>\n",
       "                        <td id=\"T_b222aa66_c602_11ea_8fcd_0c8bfd5ff595row3_col2\" class=\"data row3 col2\" >80.4</td>\n",
       "                        <td id=\"T_b222aa66_c602_11ea_8fcd_0c8bfd5ff595row3_col3\" class=\"data row3 col3\" >80.7</td>\n",
       "            </tr>\n",
       "            <tr>\n",
       "                        <th id=\"T_b222aa66_c602_11ea_8fcd_0c8bfd5ff595level0_row4\" class=\"row_heading level0 row4\" >Griffin High School</th>\n",
       "                        <td id=\"T_b222aa66_c602_11ea_8fcd_0c8bfd5ff595row4_col0\" class=\"data row4 col0\" >83.4</td>\n",
       "                        <td id=\"T_b222aa66_c602_11ea_8fcd_0c8bfd5ff595row4_col1\" class=\"data row4 col1\" >83.7</td>\n",
       "                        <td id=\"T_b222aa66_c602_11ea_8fcd_0c8bfd5ff595row4_col2\" class=\"data row4 col2\" >84.3</td>\n",
       "                        <td id=\"T_b222aa66_c602_11ea_8fcd_0c8bfd5ff595row4_col3\" class=\"data row4 col3\" >84.0</td>\n",
       "            </tr>\n",
       "            <tr>\n",
       "                        <th id=\"T_b222aa66_c602_11ea_8fcd_0c8bfd5ff595level0_row5\" class=\"row_heading level0 row5\" >Hernandez High School</th>\n",
       "                        <td id=\"T_b222aa66_c602_11ea_8fcd_0c8bfd5ff595row5_col0\" class=\"data row5 col0\" >80.9</td>\n",
       "                        <td id=\"T_b222aa66_c602_11ea_8fcd_0c8bfd5ff595row5_col1\" class=\"data row5 col1\" >80.7</td>\n",
       "                        <td id=\"T_b222aa66_c602_11ea_8fcd_0c8bfd5ff595row5_col2\" class=\"data row5 col2\" >81.4</td>\n",
       "                        <td id=\"T_b222aa66_c602_11ea_8fcd_0c8bfd5ff595row5_col3\" class=\"data row5 col3\" >80.9</td>\n",
       "            </tr>\n",
       "            <tr>\n",
       "                        <th id=\"T_b222aa66_c602_11ea_8fcd_0c8bfd5ff595level0_row6\" class=\"row_heading level0 row6\" >Holden High School</th>\n",
       "                        <td id=\"T_b222aa66_c602_11ea_8fcd_0c8bfd5ff595row6_col0\" class=\"data row6 col0\" >83.7</td>\n",
       "                        <td id=\"T_b222aa66_c602_11ea_8fcd_0c8bfd5ff595row6_col1\" class=\"data row6 col1\" >83.3</td>\n",
       "                        <td id=\"T_b222aa66_c602_11ea_8fcd_0c8bfd5ff595row6_col2\" class=\"data row6 col2\" >83.8</td>\n",
       "                        <td id=\"T_b222aa66_c602_11ea_8fcd_0c8bfd5ff595row6_col3\" class=\"data row6 col3\" >84.7</td>\n",
       "            </tr>\n",
       "            <tr>\n",
       "                        <th id=\"T_b222aa66_c602_11ea_8fcd_0c8bfd5ff595level0_row7\" class=\"row_heading level0 row7\" >Huang High School</th>\n",
       "                        <td id=\"T_b222aa66_c602_11ea_8fcd_0c8bfd5ff595row7_col0\" class=\"data row7 col0\" >81.3</td>\n",
       "                        <td id=\"T_b222aa66_c602_11ea_8fcd_0c8bfd5ff595row7_col1\" class=\"data row7 col1\" >81.5</td>\n",
       "                        <td id=\"T_b222aa66_c602_11ea_8fcd_0c8bfd5ff595row7_col2\" class=\"data row7 col2\" >81.4</td>\n",
       "                        <td id=\"T_b222aa66_c602_11ea_8fcd_0c8bfd5ff595row7_col3\" class=\"data row7 col3\" >80.3</td>\n",
       "            </tr>\n",
       "            <tr>\n",
       "                        <th id=\"T_b222aa66_c602_11ea_8fcd_0c8bfd5ff595level0_row8\" class=\"row_heading level0 row8\" >Johnson High School</th>\n",
       "                        <td id=\"T_b222aa66_c602_11ea_8fcd_0c8bfd5ff595row8_col0\" class=\"data row8 col0\" >81.3</td>\n",
       "                        <td id=\"T_b222aa66_c602_11ea_8fcd_0c8bfd5ff595row8_col1\" class=\"data row8 col1\" >80.8</td>\n",
       "                        <td id=\"T_b222aa66_c602_11ea_8fcd_0c8bfd5ff595row8_col2\" class=\"data row8 col2\" >80.6</td>\n",
       "                        <td id=\"T_b222aa66_c602_11ea_8fcd_0c8bfd5ff595row8_col3\" class=\"data row8 col3\" >81.2</td>\n",
       "            </tr>\n",
       "            <tr>\n",
       "                        <th id=\"T_b222aa66_c602_11ea_8fcd_0c8bfd5ff595level0_row9\" class=\"row_heading level0 row9\" >Pena High School</th>\n",
       "                        <td id=\"T_b222aa66_c602_11ea_8fcd_0c8bfd5ff595row9_col0\" class=\"data row9 col0\" >83.8</td>\n",
       "                        <td id=\"T_b222aa66_c602_11ea_8fcd_0c8bfd5ff595row9_col1\" class=\"data row9 col1\" >83.6</td>\n",
       "                        <td id=\"T_b222aa66_c602_11ea_8fcd_0c8bfd5ff595row9_col2\" class=\"data row9 col2\" >84.3</td>\n",
       "                        <td id=\"T_b222aa66_c602_11ea_8fcd_0c8bfd5ff595row9_col3\" class=\"data row9 col3\" >84.6</td>\n",
       "            </tr>\n",
       "            <tr>\n",
       "                        <th id=\"T_b222aa66_c602_11ea_8fcd_0c8bfd5ff595level0_row10\" class=\"row_heading level0 row10\" >Rodriguez High School</th>\n",
       "                        <td id=\"T_b222aa66_c602_11ea_8fcd_0c8bfd5ff595row10_col0\" class=\"data row10 col0\" >81.0</td>\n",
       "                        <td id=\"T_b222aa66_c602_11ea_8fcd_0c8bfd5ff595row10_col1\" class=\"data row10 col1\" >80.6</td>\n",
       "                        <td id=\"T_b222aa66_c602_11ea_8fcd_0c8bfd5ff595row10_col2\" class=\"data row10 col2\" >80.9</td>\n",
       "                        <td id=\"T_b222aa66_c602_11ea_8fcd_0c8bfd5ff595row10_col3\" class=\"data row10 col3\" >80.4</td>\n",
       "            </tr>\n",
       "            <tr>\n",
       "                        <th id=\"T_b222aa66_c602_11ea_8fcd_0c8bfd5ff595level0_row11\" class=\"row_heading level0 row11\" >Shelton High School</th>\n",
       "                        <td id=\"T_b222aa66_c602_11ea_8fcd_0c8bfd5ff595row11_col0\" class=\"data row11 col0\" >84.1</td>\n",
       "                        <td id=\"T_b222aa66_c602_11ea_8fcd_0c8bfd5ff595row11_col1\" class=\"data row11 col1\" >83.4</td>\n",
       "                        <td id=\"T_b222aa66_c602_11ea_8fcd_0c8bfd5ff595row11_col2\" class=\"data row11 col2\" >84.4</td>\n",
       "                        <td id=\"T_b222aa66_c602_11ea_8fcd_0c8bfd5ff595row11_col3\" class=\"data row11 col3\" >82.8</td>\n",
       "            </tr>\n",
       "            <tr>\n",
       "                        <th id=\"T_b222aa66_c602_11ea_8fcd_0c8bfd5ff595level0_row12\" class=\"row_heading level0 row12\" >Thomas High School</th>\n",
       "                        <td id=\"T_b222aa66_c602_11ea_8fcd_0c8bfd5ff595row12_col0\" class=\"data row12 col0\" >83.7</td>\n",
       "                        <td id=\"T_b222aa66_c602_11ea_8fcd_0c8bfd5ff595row12_col1\" class=\"data row12 col1\" >84.3</td>\n",
       "                        <td id=\"T_b222aa66_c602_11ea_8fcd_0c8bfd5ff595row12_col2\" class=\"data row12 col2\" >83.6</td>\n",
       "                        <td id=\"T_b222aa66_c602_11ea_8fcd_0c8bfd5ff595row12_col3\" class=\"data row12 col3\" >83.8</td>\n",
       "            </tr>\n",
       "            <tr>\n",
       "                        <th id=\"T_b222aa66_c602_11ea_8fcd_0c8bfd5ff595level0_row13\" class=\"row_heading level0 row13\" >Wilson High School</th>\n",
       "                        <td id=\"T_b222aa66_c602_11ea_8fcd_0c8bfd5ff595row13_col0\" class=\"data row13 col0\" >83.9</td>\n",
       "                        <td id=\"T_b222aa66_c602_11ea_8fcd_0c8bfd5ff595row13_col1\" class=\"data row13 col1\" >84.0</td>\n",
       "                        <td id=\"T_b222aa66_c602_11ea_8fcd_0c8bfd5ff595row13_col2\" class=\"data row13 col2\" >83.8</td>\n",
       "                        <td id=\"T_b222aa66_c602_11ea_8fcd_0c8bfd5ff595row13_col3\" class=\"data row13 col3\" >84.3</td>\n",
       "            </tr>\n",
       "            <tr>\n",
       "                        <th id=\"T_b222aa66_c602_11ea_8fcd_0c8bfd5ff595level0_row14\" class=\"row_heading level0 row14\" >Wright High School</th>\n",
       "                        <td id=\"T_b222aa66_c602_11ea_8fcd_0c8bfd5ff595row14_col0\" class=\"data row14 col0\" >83.8</td>\n",
       "                        <td id=\"T_b222aa66_c602_11ea_8fcd_0c8bfd5ff595row14_col1\" class=\"data row14 col1\" >83.8</td>\n",
       "                        <td id=\"T_b222aa66_c602_11ea_8fcd_0c8bfd5ff595row14_col2\" class=\"data row14 col2\" >84.2</td>\n",
       "                        <td id=\"T_b222aa66_c602_11ea_8fcd_0c8bfd5ff595row14_col3\" class=\"data row14 col3\" >84.1</td>\n",
       "            </tr>\n",
       "    </tbody></table>"
      ],
      "text/plain": [
       "<pandas.io.formats.style.Styler at 0x1da85180630>"
      ]
     },
     "execution_count": 270,
     "metadata": {},
     "output_type": "execute_result"
    }
   ],
   "source": [
    "# clean up format and display results\n",
    "reading_by_grade.style.format({'9th': '{:.1f}', \n",
    "                            \"10th\": '{:.1f}', \n",
    "                            \"11th\": \"{:.1f}\", \n",
    "                            \"12th\": \"{:.1f}\"\n",
    "                            })"
   ]
  },
  {
   "cell_type": "code",
   "execution_count": null,
   "metadata": {},
   "outputs": [],
   "source": []
  },
  {
   "cell_type": "markdown",
   "metadata": {},
   "source": [
    "## Scores by School Spending"
   ]
  },
  {
   "cell_type": "markdown",
   "metadata": {},
   "source": [
    "* Create a table that breaks down school performances based on average Spending Ranges (Per Student). Use 4 reasonable bins to group school spending. Include in the table each of the following:\n",
    "  * Average Math Score\n",
    "  * Average Reading Score\n",
    "  * % Passing Math\n",
    "  * % Passing Reading\n",
    "  * Overall Passing Rate (Average of the above two)"
   ]
  },
  {
   "cell_type": "code",
   "execution_count": 271,
   "metadata": {},
   "outputs": [],
   "source": [
    "# create bins in which Data will be held\n",
    "# bins are 0, 585.0, 630.0, 645.0, 675.0  \n",
    "bins = [0, 585.0, 630.0, 645.0, 675.0]\n",
    "\n",
    "# names of bins\n",
    "group_names = [\"<= $584\", \"$585 to $629\", \"$630 to $644\", \"$645 to $675\"]"
   ]
  },
  {
   "cell_type": "code",
   "execution_count": 272,
   "metadata": {},
   "outputs": [
    {
     "ename": "ValueError",
     "evalue": "The truth value of a Series is ambiguous. Use a.empty, a.bool(), a.item(), a.any() or a.all().",
     "output_type": "error",
     "traceback": [
      "\u001b[1;31m---------------------------------------------------------------------------\u001b[0m",
      "\u001b[1;31mValueError\u001b[0m                                Traceback (most recent call last)",
      "\u001b[1;32m<ipython-input-272-1cae853e2791>\u001b[0m in \u001b[0;36m<module>\u001b[1;34m\u001b[0m\n\u001b[0;32m      1\u001b[0m \u001b[1;31m# process data into bins\u001b[0m\u001b[1;33m\u001b[0m\u001b[1;33m\u001b[0m\u001b[1;33m\u001b[0m\u001b[0m\n\u001b[1;32m----> 2\u001b[1;33m \u001b[0mpd\u001b[0m\u001b[1;33m.\u001b[0m\u001b[0mcut\u001b[0m\u001b[1;33m(\u001b[0m\u001b[0mschool_summary_df\u001b[0m\u001b[1;33m[\u001b[0m\u001b[1;34m'Per Student Budget'\u001b[0m\u001b[1;33m]\u001b[0m\u001b[1;33m,\u001b[0m \u001b[0mbins\u001b[0m\u001b[1;33m,\u001b[0m \u001b[0mlabels\u001b[0m\u001b[1;33m=\u001b[0m\u001b[0mgroup_names\u001b[0m\u001b[1;33m)\u001b[0m\u001b[1;33m.\u001b[0m\u001b[0mhead\u001b[0m\u001b[1;33m(\u001b[0m\u001b[1;33m)\u001b[0m\u001b[1;33m\u001b[0m\u001b[1;33m\u001b[0m\u001b[0m\n\u001b[0m\u001b[0;32m      3\u001b[0m \u001b[1;33m\u001b[0m\u001b[0m\n\u001b[0;32m      4\u001b[0m \u001b[0mschool_summary_df\u001b[0m\u001b[1;33m[\u001b[0m\u001b[1;34m'Total School Budget'\u001b[0m\u001b[1;33m]\u001b[0m \u001b[1;33m=\u001b[0m \u001b[0mpd\u001b[0m\u001b[1;33m.\u001b[0m\u001b[0mcut\u001b[0m\u001b[1;33m(\u001b[0m\u001b[0mschool_summary_df\u001b[0m\u001b[1;33m[\u001b[0m\u001b[1;34m\"Per Student Budget\"\u001b[0m\u001b[1;33m]\u001b[0m\u001b[1;33m,\u001b[0m \u001b[0mbins\u001b[0m\u001b[1;33m,\u001b[0m \u001b[0mlabels\u001b[0m\u001b[1;33m=\u001b[0m\u001b[0mgroup_names\u001b[0m\u001b[1;33m,\u001b[0m \u001b[0minclude_lowest\u001b[0m\u001b[1;33m=\u001b[0m\u001b[1;32mTrue\u001b[0m\u001b[1;33m)\u001b[0m\u001b[1;33m\u001b[0m\u001b[1;33m\u001b[0m\u001b[0m\n",
      "\u001b[1;32m~\\anaconda3\\envs\\PythonData\\lib\\site-packages\\pandas\\core\\reshape\\tile.py\u001b[0m in \u001b[0;36mcut\u001b[1;34m(x, bins, right, labels, retbins, precision, include_lowest, duplicates)\u001b[0m\n\u001b[0;32m    263\u001b[0m         \u001b[0minclude_lowest\u001b[0m\u001b[1;33m=\u001b[0m\u001b[0minclude_lowest\u001b[0m\u001b[1;33m,\u001b[0m\u001b[1;33m\u001b[0m\u001b[1;33m\u001b[0m\u001b[0m\n\u001b[0;32m    264\u001b[0m         \u001b[0mdtype\u001b[0m\u001b[1;33m=\u001b[0m\u001b[0mdtype\u001b[0m\u001b[1;33m,\u001b[0m\u001b[1;33m\u001b[0m\u001b[1;33m\u001b[0m\u001b[0m\n\u001b[1;32m--> 265\u001b[1;33m         \u001b[0mduplicates\u001b[0m\u001b[1;33m=\u001b[0m\u001b[0mduplicates\u001b[0m\u001b[1;33m,\u001b[0m\u001b[1;33m\u001b[0m\u001b[1;33m\u001b[0m\u001b[0m\n\u001b[0m\u001b[0;32m    266\u001b[0m     )\n\u001b[0;32m    267\u001b[0m \u001b[1;33m\u001b[0m\u001b[0m\n",
      "\u001b[1;32m~\\anaconda3\\envs\\PythonData\\lib\\site-packages\\pandas\\core\\reshape\\tile.py\u001b[0m in \u001b[0;36m_bins_to_cuts\u001b[1;34m(x, bins, right, labels, precision, include_lowest, dtype, duplicates)\u001b[0m\n\u001b[0;32m    386\u001b[0m \u001b[1;33m\u001b[0m\u001b[0m\n\u001b[0;32m    387\u001b[0m     \u001b[0mside\u001b[0m \u001b[1;33m=\u001b[0m \u001b[1;34m\"left\"\u001b[0m \u001b[1;32mif\u001b[0m \u001b[0mright\u001b[0m \u001b[1;32melse\u001b[0m \u001b[1;34m\"right\"\u001b[0m\u001b[1;33m\u001b[0m\u001b[1;33m\u001b[0m\u001b[0m\n\u001b[1;32m--> 388\u001b[1;33m     \u001b[0mids\u001b[0m \u001b[1;33m=\u001b[0m \u001b[0mensure_int64\u001b[0m\u001b[1;33m(\u001b[0m\u001b[0mbins\u001b[0m\u001b[1;33m.\u001b[0m\u001b[0msearchsorted\u001b[0m\u001b[1;33m(\u001b[0m\u001b[0mx\u001b[0m\u001b[1;33m,\u001b[0m \u001b[0mside\u001b[0m\u001b[1;33m=\u001b[0m\u001b[0mside\u001b[0m\u001b[1;33m)\u001b[0m\u001b[1;33m)\u001b[0m\u001b[1;33m\u001b[0m\u001b[1;33m\u001b[0m\u001b[0m\n\u001b[0m\u001b[0;32m    389\u001b[0m \u001b[1;33m\u001b[0m\u001b[0m\n\u001b[0;32m    390\u001b[0m     \u001b[1;32mif\u001b[0m \u001b[0minclude_lowest\u001b[0m\u001b[1;33m:\u001b[0m\u001b[1;33m\u001b[0m\u001b[1;33m\u001b[0m\u001b[0m\n",
      "\u001b[1;32m~\\anaconda3\\envs\\PythonData\\lib\\site-packages\\pandas\\core\\generic.py\u001b[0m in \u001b[0;36m__nonzero__\u001b[1;34m(self)\u001b[0m\n\u001b[0;32m   1477\u001b[0m     \u001b[1;32mdef\u001b[0m \u001b[0m__nonzero__\u001b[0m\u001b[1;33m(\u001b[0m\u001b[0mself\u001b[0m\u001b[1;33m)\u001b[0m\u001b[1;33m:\u001b[0m\u001b[1;33m\u001b[0m\u001b[1;33m\u001b[0m\u001b[0m\n\u001b[0;32m   1478\u001b[0m         raise ValueError(\n\u001b[1;32m-> 1479\u001b[1;33m             \u001b[1;34mf\"The truth value of a {type(self).__name__} is ambiguous. \"\u001b[0m\u001b[1;33m\u001b[0m\u001b[1;33m\u001b[0m\u001b[0m\n\u001b[0m\u001b[0;32m   1480\u001b[0m             \u001b[1;34m\"Use a.empty, a.bool(), a.item(), a.any() or a.all().\"\u001b[0m\u001b[1;33m\u001b[0m\u001b[1;33m\u001b[0m\u001b[0m\n\u001b[0;32m   1481\u001b[0m         )\n",
      "\u001b[1;31mValueError\u001b[0m: The truth value of a Series is ambiguous. Use a.empty, a.bool(), a.item(), a.any() or a.all()."
     ]
    }
   ],
   "source": [
    "# process data into bins\n",
    "pd.cut(school_summary_df['Per Student Budget'], bins, labels=group_names).head()\n",
    "\n",
    "school_summary_df['Total School Budget'] = pd.cut(school_summary_df[\"Per Student Budget\"], bins, labels=group_names, include_lowest=True)"
   ]
  },
  {
   "cell_type": "code",
   "execution_count": 273,
   "metadata": {},
   "outputs": [],
   "source": [
    "# create GroupBy object\n",
    "budget_group = school_summary_df.groupby('Total School Budget')"
   ]
  },
  {
   "cell_type": "code",
   "execution_count": 274,
   "metadata": {},
   "outputs": [
    {
     "ename": "DataError",
     "evalue": "No numeric types to aggregate",
     "output_type": "error",
     "traceback": [
      "\u001b[1;31m---------------------------------------------------------------------------\u001b[0m",
      "\u001b[1;31mDataError\u001b[0m                                 Traceback (most recent call last)",
      "\u001b[1;32m<ipython-input-274-2f963caba22a>\u001b[0m in \u001b[0;36m<module>\u001b[1;34m\u001b[0m\n\u001b[0;32m      1\u001b[0m \u001b[1;31m# calculate averages of the GroupBy object and display\u001b[0m\u001b[1;33m\u001b[0m\u001b[1;33m\u001b[0m\u001b[1;33m\u001b[0m\u001b[0m\n\u001b[1;32m----> 2\u001b[1;33m \u001b[0mbudget_group\u001b[0m\u001b[1;33m[\u001b[0m\u001b[1;33m[\u001b[0m\u001b[1;34m\"Average Math Score\"\u001b[0m\u001b[1;33m,\u001b[0m \u001b[1;34m\"Average Reading Score\"\u001b[0m\u001b[1;33m,\u001b[0m \u001b[1;34m\"% Passing Math\"\u001b[0m\u001b[1;33m,\u001b[0m \u001b[1;34m\"% Passing Reading\"\u001b[0m\u001b[1;33m,\u001b[0m \u001b[1;34m\"% Overall Passing\"\u001b[0m\u001b[1;33m]\u001b[0m\u001b[1;33m]\u001b[0m\u001b[1;33m.\u001b[0m\u001b[0mmean\u001b[0m\u001b[1;33m(\u001b[0m\u001b[1;33m)\u001b[0m\u001b[1;33m\u001b[0m\u001b[1;33m\u001b[0m\u001b[0m\n\u001b[0m",
      "\u001b[1;32m~\\anaconda3\\envs\\PythonData\\lib\\site-packages\\pandas\\core\\groupby\\groupby.py\u001b[0m in \u001b[0;36mmean\u001b[1;34m(self, *args, **kwargs)\u001b[0m\n\u001b[0;32m   1224\u001b[0m         \u001b[0mnv\u001b[0m\u001b[1;33m.\u001b[0m\u001b[0mvalidate_groupby_func\u001b[0m\u001b[1;33m(\u001b[0m\u001b[1;34m\"mean\"\u001b[0m\u001b[1;33m,\u001b[0m \u001b[0margs\u001b[0m\u001b[1;33m,\u001b[0m \u001b[0mkwargs\u001b[0m\u001b[1;33m,\u001b[0m \u001b[1;33m[\u001b[0m\u001b[1;34m\"numeric_only\"\u001b[0m\u001b[1;33m]\u001b[0m\u001b[1;33m)\u001b[0m\u001b[1;33m\u001b[0m\u001b[1;33m\u001b[0m\u001b[0m\n\u001b[0;32m   1225\u001b[0m         return self._cython_agg_general(\n\u001b[1;32m-> 1226\u001b[1;33m             \u001b[1;34m\"mean\"\u001b[0m\u001b[1;33m,\u001b[0m \u001b[0malt\u001b[0m\u001b[1;33m=\u001b[0m\u001b[1;32mlambda\u001b[0m \u001b[0mx\u001b[0m\u001b[1;33m,\u001b[0m \u001b[0maxis\u001b[0m\u001b[1;33m:\u001b[0m \u001b[0mSeries\u001b[0m\u001b[1;33m(\u001b[0m\u001b[0mx\u001b[0m\u001b[1;33m)\u001b[0m\u001b[1;33m.\u001b[0m\u001b[0mmean\u001b[0m\u001b[1;33m(\u001b[0m\u001b[1;33m**\u001b[0m\u001b[0mkwargs\u001b[0m\u001b[1;33m)\u001b[0m\u001b[1;33m,\u001b[0m \u001b[1;33m**\u001b[0m\u001b[0mkwargs\u001b[0m\u001b[1;33m\u001b[0m\u001b[1;33m\u001b[0m\u001b[0m\n\u001b[0m\u001b[0;32m   1227\u001b[0m         )\n\u001b[0;32m   1228\u001b[0m \u001b[1;33m\u001b[0m\u001b[0m\n",
      "\u001b[1;32m~\\anaconda3\\envs\\PythonData\\lib\\site-packages\\pandas\\core\\groupby\\generic.py\u001b[0m in \u001b[0;36m_cython_agg_general\u001b[1;34m(self, how, alt, numeric_only, min_count)\u001b[0m\n\u001b[0;32m    992\u001b[0m     ) -> DataFrame:\n\u001b[0;32m    993\u001b[0m         agg_blocks, agg_items = self._cython_agg_blocks(\n\u001b[1;32m--> 994\u001b[1;33m             \u001b[0mhow\u001b[0m\u001b[1;33m,\u001b[0m \u001b[0malt\u001b[0m\u001b[1;33m=\u001b[0m\u001b[0malt\u001b[0m\u001b[1;33m,\u001b[0m \u001b[0mnumeric_only\u001b[0m\u001b[1;33m=\u001b[0m\u001b[0mnumeric_only\u001b[0m\u001b[1;33m,\u001b[0m \u001b[0mmin_count\u001b[0m\u001b[1;33m=\u001b[0m\u001b[0mmin_count\u001b[0m\u001b[1;33m\u001b[0m\u001b[1;33m\u001b[0m\u001b[0m\n\u001b[0m\u001b[0;32m    995\u001b[0m         )\n\u001b[0;32m    996\u001b[0m         \u001b[1;32mreturn\u001b[0m \u001b[0mself\u001b[0m\u001b[1;33m.\u001b[0m\u001b[0m_wrap_agged_blocks\u001b[0m\u001b[1;33m(\u001b[0m\u001b[0magg_blocks\u001b[0m\u001b[1;33m,\u001b[0m \u001b[0mitems\u001b[0m\u001b[1;33m=\u001b[0m\u001b[0magg_items\u001b[0m\u001b[1;33m)\u001b[0m\u001b[1;33m\u001b[0m\u001b[1;33m\u001b[0m\u001b[0m\n",
      "\u001b[1;32m~\\anaconda3\\envs\\PythonData\\lib\\site-packages\\pandas\\core\\groupby\\generic.py\u001b[0m in \u001b[0;36m_cython_agg_blocks\u001b[1;34m(self, how, alt, numeric_only, min_count)\u001b[0m\n\u001b[0;32m   1093\u001b[0m \u001b[1;33m\u001b[0m\u001b[0m\n\u001b[0;32m   1094\u001b[0m         \u001b[1;32mif\u001b[0m \u001b[1;32mnot\u001b[0m \u001b[1;33m(\u001b[0m\u001b[0magg_blocks\u001b[0m \u001b[1;32mor\u001b[0m \u001b[0msplit_frames\u001b[0m\u001b[1;33m)\u001b[0m\u001b[1;33m:\u001b[0m\u001b[1;33m\u001b[0m\u001b[1;33m\u001b[0m\u001b[0m\n\u001b[1;32m-> 1095\u001b[1;33m             \u001b[1;32mraise\u001b[0m \u001b[0mDataError\u001b[0m\u001b[1;33m(\u001b[0m\u001b[1;34m\"No numeric types to aggregate\"\u001b[0m\u001b[1;33m)\u001b[0m\u001b[1;33m\u001b[0m\u001b[1;33m\u001b[0m\u001b[0m\n\u001b[0m\u001b[0;32m   1096\u001b[0m \u001b[1;33m\u001b[0m\u001b[0m\n\u001b[0;32m   1097\u001b[0m         \u001b[1;32mif\u001b[0m \u001b[0msplit_items\u001b[0m\u001b[1;33m:\u001b[0m\u001b[1;33m\u001b[0m\u001b[1;33m\u001b[0m\u001b[0m\n",
      "\u001b[1;31mDataError\u001b[0m: No numeric types to aggregate"
     ]
    }
   ],
   "source": [
    "# calculate averages of the GroupBy object and display \n",
    "budget_group[[\"Average Math Score\", \"Average Reading Score\", \"% Passing Math\", \"% Passing Reading\", \"% Overall Passing\"]].mean()"
   ]
  },
  {
   "cell_type": "markdown",
   "metadata": {},
   "source": [
    "## Scores by School Size"
   ]
  },
  {
   "cell_type": "markdown",
   "metadata": {},
   "source": [
    "* Perform the same operations as above, based on school size."
   ]
  },
  {
   "cell_type": "code",
   "execution_count": 275,
   "metadata": {
    "scrolled": true
   },
   "outputs": [],
   "source": [
    "# create bins in which Data will be held\n",
    "# bins are 0,999, 1999, 5000  \n",
    "bins = [0, 999, 1999, 5000]\n",
    "\n",
    "# names of bins\n",
    "group_names = [\"Small (<1000)\", \"Medium (1000-1999)\", \"Large (2000-5000)\"]"
   ]
  },
  {
   "cell_type": "code",
   "execution_count": 276,
   "metadata": {},
   "outputs": [
    {
     "ename": "ValueError",
     "evalue": "The truth value of a Series is ambiguous. Use a.empty, a.bool(), a.item(), a.any() or a.all().",
     "output_type": "error",
     "traceback": [
      "\u001b[1;31m---------------------------------------------------------------------------\u001b[0m",
      "\u001b[1;31mValueError\u001b[0m                                Traceback (most recent call last)",
      "\u001b[1;32m<ipython-input-276-e395f9a3729a>\u001b[0m in \u001b[0;36m<module>\u001b[1;34m\u001b[0m\n\u001b[0;32m      1\u001b[0m \u001b[1;31m# process data into bins\u001b[0m\u001b[1;33m\u001b[0m\u001b[1;33m\u001b[0m\u001b[1;33m\u001b[0m\u001b[0m\n\u001b[1;32m----> 2\u001b[1;33m \u001b[0mpd\u001b[0m\u001b[1;33m.\u001b[0m\u001b[0mcut\u001b[0m\u001b[1;33m(\u001b[0m\u001b[0mschool_summary_df\u001b[0m\u001b[1;33m[\u001b[0m\u001b[1;34m'Total Students'\u001b[0m\u001b[1;33m]\u001b[0m\u001b[1;33m,\u001b[0m \u001b[0mbins\u001b[0m\u001b[1;33m,\u001b[0m \u001b[0mlabels\u001b[0m\u001b[1;33m=\u001b[0m\u001b[0mgroup_names\u001b[0m\u001b[1;33m)\u001b[0m\u001b[1;33m.\u001b[0m\u001b[0mhead\u001b[0m\u001b[1;33m(\u001b[0m\u001b[1;33m)\u001b[0m\u001b[1;33m\u001b[0m\u001b[1;33m\u001b[0m\u001b[0m\n\u001b[0m\u001b[0;32m      3\u001b[0m \u001b[1;33m\u001b[0m\u001b[0m\n\u001b[0;32m      4\u001b[0m \u001b[0mschool_summary_df\u001b[0m\u001b[1;33m[\u001b[0m\u001b[1;34m'Total Students'\u001b[0m\u001b[1;33m]\u001b[0m \u001b[1;33m=\u001b[0m \u001b[0mpd\u001b[0m\u001b[1;33m.\u001b[0m\u001b[0mcut\u001b[0m\u001b[1;33m(\u001b[0m\u001b[0mschool_summary_df\u001b[0m\u001b[1;33m[\u001b[0m\u001b[1;34m\"Per Student Budget\"\u001b[0m\u001b[1;33m]\u001b[0m\u001b[1;33m,\u001b[0m \u001b[0mbins\u001b[0m\u001b[1;33m,\u001b[0m \u001b[0mlabels\u001b[0m\u001b[1;33m=\u001b[0m\u001b[0mgroup_names\u001b[0m\u001b[1;33m,\u001b[0m \u001b[0minclude_lowest\u001b[0m\u001b[1;33m=\u001b[0m\u001b[1;32mTrue\u001b[0m\u001b[1;33m)\u001b[0m\u001b[1;33m\u001b[0m\u001b[1;33m\u001b[0m\u001b[0m\n",
      "\u001b[1;32m~\\anaconda3\\envs\\PythonData\\lib\\site-packages\\pandas\\core\\reshape\\tile.py\u001b[0m in \u001b[0;36mcut\u001b[1;34m(x, bins, right, labels, retbins, precision, include_lowest, duplicates)\u001b[0m\n\u001b[0;32m    263\u001b[0m         \u001b[0minclude_lowest\u001b[0m\u001b[1;33m=\u001b[0m\u001b[0minclude_lowest\u001b[0m\u001b[1;33m,\u001b[0m\u001b[1;33m\u001b[0m\u001b[1;33m\u001b[0m\u001b[0m\n\u001b[0;32m    264\u001b[0m         \u001b[0mdtype\u001b[0m\u001b[1;33m=\u001b[0m\u001b[0mdtype\u001b[0m\u001b[1;33m,\u001b[0m\u001b[1;33m\u001b[0m\u001b[1;33m\u001b[0m\u001b[0m\n\u001b[1;32m--> 265\u001b[1;33m         \u001b[0mduplicates\u001b[0m\u001b[1;33m=\u001b[0m\u001b[0mduplicates\u001b[0m\u001b[1;33m,\u001b[0m\u001b[1;33m\u001b[0m\u001b[1;33m\u001b[0m\u001b[0m\n\u001b[0m\u001b[0;32m    266\u001b[0m     )\n\u001b[0;32m    267\u001b[0m \u001b[1;33m\u001b[0m\u001b[0m\n",
      "\u001b[1;32m~\\anaconda3\\envs\\PythonData\\lib\\site-packages\\pandas\\core\\reshape\\tile.py\u001b[0m in \u001b[0;36m_bins_to_cuts\u001b[1;34m(x, bins, right, labels, precision, include_lowest, dtype, duplicates)\u001b[0m\n\u001b[0;32m    386\u001b[0m \u001b[1;33m\u001b[0m\u001b[0m\n\u001b[0;32m    387\u001b[0m     \u001b[0mside\u001b[0m \u001b[1;33m=\u001b[0m \u001b[1;34m\"left\"\u001b[0m \u001b[1;32mif\u001b[0m \u001b[0mright\u001b[0m \u001b[1;32melse\u001b[0m \u001b[1;34m\"right\"\u001b[0m\u001b[1;33m\u001b[0m\u001b[1;33m\u001b[0m\u001b[0m\n\u001b[1;32m--> 388\u001b[1;33m     \u001b[0mids\u001b[0m \u001b[1;33m=\u001b[0m \u001b[0mensure_int64\u001b[0m\u001b[1;33m(\u001b[0m\u001b[0mbins\u001b[0m\u001b[1;33m.\u001b[0m\u001b[0msearchsorted\u001b[0m\u001b[1;33m(\u001b[0m\u001b[0mx\u001b[0m\u001b[1;33m,\u001b[0m \u001b[0mside\u001b[0m\u001b[1;33m=\u001b[0m\u001b[0mside\u001b[0m\u001b[1;33m)\u001b[0m\u001b[1;33m)\u001b[0m\u001b[1;33m\u001b[0m\u001b[1;33m\u001b[0m\u001b[0m\n\u001b[0m\u001b[0;32m    389\u001b[0m \u001b[1;33m\u001b[0m\u001b[0m\n\u001b[0;32m    390\u001b[0m     \u001b[1;32mif\u001b[0m \u001b[0minclude_lowest\u001b[0m\u001b[1;33m:\u001b[0m\u001b[1;33m\u001b[0m\u001b[1;33m\u001b[0m\u001b[0m\n",
      "\u001b[1;32m~\\anaconda3\\envs\\PythonData\\lib\\site-packages\\pandas\\core\\generic.py\u001b[0m in \u001b[0;36m__nonzero__\u001b[1;34m(self)\u001b[0m\n\u001b[0;32m   1477\u001b[0m     \u001b[1;32mdef\u001b[0m \u001b[0m__nonzero__\u001b[0m\u001b[1;33m(\u001b[0m\u001b[0mself\u001b[0m\u001b[1;33m)\u001b[0m\u001b[1;33m:\u001b[0m\u001b[1;33m\u001b[0m\u001b[1;33m\u001b[0m\u001b[0m\n\u001b[0;32m   1478\u001b[0m         raise ValueError(\n\u001b[1;32m-> 1479\u001b[1;33m             \u001b[1;34mf\"The truth value of a {type(self).__name__} is ambiguous. \"\u001b[0m\u001b[1;33m\u001b[0m\u001b[1;33m\u001b[0m\u001b[0m\n\u001b[0m\u001b[0;32m   1480\u001b[0m             \u001b[1;34m\"Use a.empty, a.bool(), a.item(), a.any() or a.all().\"\u001b[0m\u001b[1;33m\u001b[0m\u001b[1;33m\u001b[0m\u001b[0m\n\u001b[0;32m   1481\u001b[0m         )\n",
      "\u001b[1;31mValueError\u001b[0m: The truth value of a Series is ambiguous. Use a.empty, a.bool(), a.item(), a.any() or a.all()."
     ]
    }
   ],
   "source": [
    "# process data into bins\n",
    "pd.cut(school_summary_df['Total Students'], bins, labels=group_names).head()\n",
    "\n",
    "school_summary_df['Total Students'] = pd.cut(school_summary_df[\"Per Student Budget\"], bins, labels=group_names, include_lowest=True)"
   ]
  },
  {
   "cell_type": "code",
   "execution_count": 277,
   "metadata": {},
   "outputs": [],
   "source": [
    "# create GroupBy object\n",
    "size_group = school_summary_df.groupby('Total Students')"
   ]
  },
  {
   "cell_type": "code",
   "execution_count": 278,
   "metadata": {},
   "outputs": [
    {
     "ename": "DataError",
     "evalue": "No numeric types to aggregate",
     "output_type": "error",
     "traceback": [
      "\u001b[1;31m---------------------------------------------------------------------------\u001b[0m",
      "\u001b[1;31mDataError\u001b[0m                                 Traceback (most recent call last)",
      "\u001b[1;32m<ipython-input-278-31e6916a919e>\u001b[0m in \u001b[0;36m<module>\u001b[1;34m\u001b[0m\n\u001b[0;32m      1\u001b[0m \u001b[1;31m# calculate averages of the GroupBy object and display\u001b[0m\u001b[1;33m\u001b[0m\u001b[1;33m\u001b[0m\u001b[1;33m\u001b[0m\u001b[0m\n\u001b[1;32m----> 2\u001b[1;33m \u001b[0msize_group\u001b[0m\u001b[1;33m[\u001b[0m\u001b[1;33m[\u001b[0m\u001b[1;34m\"Average Math Score\"\u001b[0m\u001b[1;33m,\u001b[0m \u001b[1;34m\"Average Reading Score\"\u001b[0m\u001b[1;33m,\u001b[0m \u001b[1;34m\"% Passing Math\"\u001b[0m\u001b[1;33m,\u001b[0m \u001b[1;34m\"% Passing Reading\"\u001b[0m\u001b[1;33m,\u001b[0m \u001b[1;34m\"% Overall Passing\"\u001b[0m\u001b[1;33m]\u001b[0m\u001b[1;33m]\u001b[0m\u001b[1;33m.\u001b[0m\u001b[0mmean\u001b[0m\u001b[1;33m(\u001b[0m\u001b[1;33m)\u001b[0m\u001b[1;33m\u001b[0m\u001b[1;33m\u001b[0m\u001b[0m\n\u001b[0m",
      "\u001b[1;32m~\\anaconda3\\envs\\PythonData\\lib\\site-packages\\pandas\\core\\groupby\\groupby.py\u001b[0m in \u001b[0;36mmean\u001b[1;34m(self, *args, **kwargs)\u001b[0m\n\u001b[0;32m   1224\u001b[0m         \u001b[0mnv\u001b[0m\u001b[1;33m.\u001b[0m\u001b[0mvalidate_groupby_func\u001b[0m\u001b[1;33m(\u001b[0m\u001b[1;34m\"mean\"\u001b[0m\u001b[1;33m,\u001b[0m \u001b[0margs\u001b[0m\u001b[1;33m,\u001b[0m \u001b[0mkwargs\u001b[0m\u001b[1;33m,\u001b[0m \u001b[1;33m[\u001b[0m\u001b[1;34m\"numeric_only\"\u001b[0m\u001b[1;33m]\u001b[0m\u001b[1;33m)\u001b[0m\u001b[1;33m\u001b[0m\u001b[1;33m\u001b[0m\u001b[0m\n\u001b[0;32m   1225\u001b[0m         return self._cython_agg_general(\n\u001b[1;32m-> 1226\u001b[1;33m             \u001b[1;34m\"mean\"\u001b[0m\u001b[1;33m,\u001b[0m \u001b[0malt\u001b[0m\u001b[1;33m=\u001b[0m\u001b[1;32mlambda\u001b[0m \u001b[0mx\u001b[0m\u001b[1;33m,\u001b[0m \u001b[0maxis\u001b[0m\u001b[1;33m:\u001b[0m \u001b[0mSeries\u001b[0m\u001b[1;33m(\u001b[0m\u001b[0mx\u001b[0m\u001b[1;33m)\u001b[0m\u001b[1;33m.\u001b[0m\u001b[0mmean\u001b[0m\u001b[1;33m(\u001b[0m\u001b[1;33m**\u001b[0m\u001b[0mkwargs\u001b[0m\u001b[1;33m)\u001b[0m\u001b[1;33m,\u001b[0m \u001b[1;33m**\u001b[0m\u001b[0mkwargs\u001b[0m\u001b[1;33m\u001b[0m\u001b[1;33m\u001b[0m\u001b[0m\n\u001b[0m\u001b[0;32m   1227\u001b[0m         )\n\u001b[0;32m   1228\u001b[0m \u001b[1;33m\u001b[0m\u001b[0m\n",
      "\u001b[1;32m~\\anaconda3\\envs\\PythonData\\lib\\site-packages\\pandas\\core\\groupby\\generic.py\u001b[0m in \u001b[0;36m_cython_agg_general\u001b[1;34m(self, how, alt, numeric_only, min_count)\u001b[0m\n\u001b[0;32m    992\u001b[0m     ) -> DataFrame:\n\u001b[0;32m    993\u001b[0m         agg_blocks, agg_items = self._cython_agg_blocks(\n\u001b[1;32m--> 994\u001b[1;33m             \u001b[0mhow\u001b[0m\u001b[1;33m,\u001b[0m \u001b[0malt\u001b[0m\u001b[1;33m=\u001b[0m\u001b[0malt\u001b[0m\u001b[1;33m,\u001b[0m \u001b[0mnumeric_only\u001b[0m\u001b[1;33m=\u001b[0m\u001b[0mnumeric_only\u001b[0m\u001b[1;33m,\u001b[0m \u001b[0mmin_count\u001b[0m\u001b[1;33m=\u001b[0m\u001b[0mmin_count\u001b[0m\u001b[1;33m\u001b[0m\u001b[1;33m\u001b[0m\u001b[0m\n\u001b[0m\u001b[0;32m    995\u001b[0m         )\n\u001b[0;32m    996\u001b[0m         \u001b[1;32mreturn\u001b[0m \u001b[0mself\u001b[0m\u001b[1;33m.\u001b[0m\u001b[0m_wrap_agged_blocks\u001b[0m\u001b[1;33m(\u001b[0m\u001b[0magg_blocks\u001b[0m\u001b[1;33m,\u001b[0m \u001b[0mitems\u001b[0m\u001b[1;33m=\u001b[0m\u001b[0magg_items\u001b[0m\u001b[1;33m)\u001b[0m\u001b[1;33m\u001b[0m\u001b[1;33m\u001b[0m\u001b[0m\n",
      "\u001b[1;32m~\\anaconda3\\envs\\PythonData\\lib\\site-packages\\pandas\\core\\groupby\\generic.py\u001b[0m in \u001b[0;36m_cython_agg_blocks\u001b[1;34m(self, how, alt, numeric_only, min_count)\u001b[0m\n\u001b[0;32m   1093\u001b[0m \u001b[1;33m\u001b[0m\u001b[0m\n\u001b[0;32m   1094\u001b[0m         \u001b[1;32mif\u001b[0m \u001b[1;32mnot\u001b[0m \u001b[1;33m(\u001b[0m\u001b[0magg_blocks\u001b[0m \u001b[1;32mor\u001b[0m \u001b[0msplit_frames\u001b[0m\u001b[1;33m)\u001b[0m\u001b[1;33m:\u001b[0m\u001b[1;33m\u001b[0m\u001b[1;33m\u001b[0m\u001b[0m\n\u001b[1;32m-> 1095\u001b[1;33m             \u001b[1;32mraise\u001b[0m \u001b[0mDataError\u001b[0m\u001b[1;33m(\u001b[0m\u001b[1;34m\"No numeric types to aggregate\"\u001b[0m\u001b[1;33m)\u001b[0m\u001b[1;33m\u001b[0m\u001b[1;33m\u001b[0m\u001b[0m\n\u001b[0m\u001b[0;32m   1096\u001b[0m \u001b[1;33m\u001b[0m\u001b[0m\n\u001b[0;32m   1097\u001b[0m         \u001b[1;32mif\u001b[0m \u001b[0msplit_items\u001b[0m\u001b[1;33m:\u001b[0m\u001b[1;33m\u001b[0m\u001b[1;33m\u001b[0m\u001b[0m\n",
      "\u001b[1;31mDataError\u001b[0m: No numeric types to aggregate"
     ]
    }
   ],
   "source": [
    "# calculate averages of the GroupBy object and display \n",
    "size_group[[\"Average Math Score\", \"Average Reading Score\", \"% Passing Math\", \"% Passing Reading\", \"% Overall Passing\"]].mean()"
   ]
  },
  {
   "cell_type": "markdown",
   "metadata": {},
   "source": [
    "## Scores by School Type"
   ]
  },
  {
   "cell_type": "markdown",
   "metadata": {},
   "source": [
    "* Perform the same operations as above, based on school type"
   ]
  },
  {
   "cell_type": "code",
   "execution_count": 284,
   "metadata": {},
   "outputs": [
    {
     "ename": "KeyError",
     "evalue": "'type'",
     "output_type": "error",
     "traceback": [
      "\u001b[1;31m---------------------------------------------------------------------------\u001b[0m",
      "\u001b[1;31mKeyError\u001b[0m                                  Traceback (most recent call last)",
      "\u001b[1;32m<ipython-input-284-d89e1761f176>\u001b[0m in \u001b[0;36m<module>\u001b[1;34m\u001b[0m\n\u001b[0;32m      1\u001b[0m \u001b[1;31m# create GroupBy object\u001b[0m\u001b[1;33m\u001b[0m\u001b[1;33m\u001b[0m\u001b[1;33m\u001b[0m\u001b[0m\n\u001b[1;32m----> 2\u001b[1;33m \u001b[0mtype_group\u001b[0m \u001b[1;33m=\u001b[0m \u001b[0mschool_summary_df\u001b[0m\u001b[1;33m.\u001b[0m\u001b[0mgroupby\u001b[0m\u001b[1;33m(\u001b[0m\u001b[1;34m'type'\u001b[0m\u001b[1;33m)\u001b[0m\u001b[1;33m\u001b[0m\u001b[1;33m\u001b[0m\u001b[0m\n\u001b[0m",
      "\u001b[1;32m~\\anaconda3\\envs\\PythonData\\lib\\site-packages\\pandas\\core\\frame.py\u001b[0m in \u001b[0;36mgroupby\u001b[1;34m(self, by, axis, level, as_index, sort, group_keys, squeeze, observed)\u001b[0m\n\u001b[0;32m   5808\u001b[0m             \u001b[0mgroup_keys\u001b[0m\u001b[1;33m=\u001b[0m\u001b[0mgroup_keys\u001b[0m\u001b[1;33m,\u001b[0m\u001b[1;33m\u001b[0m\u001b[1;33m\u001b[0m\u001b[0m\n\u001b[0;32m   5809\u001b[0m             \u001b[0msqueeze\u001b[0m\u001b[1;33m=\u001b[0m\u001b[0msqueeze\u001b[0m\u001b[1;33m,\u001b[0m\u001b[1;33m\u001b[0m\u001b[1;33m\u001b[0m\u001b[0m\n\u001b[1;32m-> 5810\u001b[1;33m             \u001b[0mobserved\u001b[0m\u001b[1;33m=\u001b[0m\u001b[0mobserved\u001b[0m\u001b[1;33m,\u001b[0m\u001b[1;33m\u001b[0m\u001b[1;33m\u001b[0m\u001b[0m\n\u001b[0m\u001b[0;32m   5811\u001b[0m         )\n\u001b[0;32m   5812\u001b[0m \u001b[1;33m\u001b[0m\u001b[0m\n",
      "\u001b[1;32m~\\anaconda3\\envs\\PythonData\\lib\\site-packages\\pandas\\core\\groupby\\groupby.py\u001b[0m in \u001b[0;36m__init__\u001b[1;34m(self, obj, keys, axis, level, grouper, exclusions, selection, as_index, sort, group_keys, squeeze, observed, mutated)\u001b[0m\n\u001b[0;32m    408\u001b[0m                 \u001b[0msort\u001b[0m\u001b[1;33m=\u001b[0m\u001b[0msort\u001b[0m\u001b[1;33m,\u001b[0m\u001b[1;33m\u001b[0m\u001b[1;33m\u001b[0m\u001b[0m\n\u001b[0;32m    409\u001b[0m                 \u001b[0mobserved\u001b[0m\u001b[1;33m=\u001b[0m\u001b[0mobserved\u001b[0m\u001b[1;33m,\u001b[0m\u001b[1;33m\u001b[0m\u001b[1;33m\u001b[0m\u001b[0m\n\u001b[1;32m--> 410\u001b[1;33m                 \u001b[0mmutated\u001b[0m\u001b[1;33m=\u001b[0m\u001b[0mself\u001b[0m\u001b[1;33m.\u001b[0m\u001b[0mmutated\u001b[0m\u001b[1;33m,\u001b[0m\u001b[1;33m\u001b[0m\u001b[1;33m\u001b[0m\u001b[0m\n\u001b[0m\u001b[0;32m    411\u001b[0m             )\n\u001b[0;32m    412\u001b[0m \u001b[1;33m\u001b[0m\u001b[0m\n",
      "\u001b[1;32m~\\anaconda3\\envs\\PythonData\\lib\\site-packages\\pandas\\core\\groupby\\grouper.py\u001b[0m in \u001b[0;36mget_grouper\u001b[1;34m(obj, key, axis, level, sort, observed, mutated, validate)\u001b[0m\n\u001b[0;32m    598\u001b[0m                 \u001b[0min_axis\u001b[0m\u001b[1;33m,\u001b[0m \u001b[0mname\u001b[0m\u001b[1;33m,\u001b[0m \u001b[0mlevel\u001b[0m\u001b[1;33m,\u001b[0m \u001b[0mgpr\u001b[0m \u001b[1;33m=\u001b[0m \u001b[1;32mFalse\u001b[0m\u001b[1;33m,\u001b[0m \u001b[1;32mNone\u001b[0m\u001b[1;33m,\u001b[0m \u001b[0mgpr\u001b[0m\u001b[1;33m,\u001b[0m \u001b[1;32mNone\u001b[0m\u001b[1;33m\u001b[0m\u001b[1;33m\u001b[0m\u001b[0m\n\u001b[0;32m    599\u001b[0m             \u001b[1;32melse\u001b[0m\u001b[1;33m:\u001b[0m\u001b[1;33m\u001b[0m\u001b[1;33m\u001b[0m\u001b[0m\n\u001b[1;32m--> 600\u001b[1;33m                 \u001b[1;32mraise\u001b[0m \u001b[0mKeyError\u001b[0m\u001b[1;33m(\u001b[0m\u001b[0mgpr\u001b[0m\u001b[1;33m)\u001b[0m\u001b[1;33m\u001b[0m\u001b[1;33m\u001b[0m\u001b[0m\n\u001b[0m\u001b[0;32m    601\u001b[0m         \u001b[1;32melif\u001b[0m \u001b[0misinstance\u001b[0m\u001b[1;33m(\u001b[0m\u001b[0mgpr\u001b[0m\u001b[1;33m,\u001b[0m \u001b[0mGrouper\u001b[0m\u001b[1;33m)\u001b[0m \u001b[1;32mand\u001b[0m \u001b[0mgpr\u001b[0m\u001b[1;33m.\u001b[0m\u001b[0mkey\u001b[0m \u001b[1;32mis\u001b[0m \u001b[1;32mnot\u001b[0m \u001b[1;32mNone\u001b[0m\u001b[1;33m:\u001b[0m\u001b[1;33m\u001b[0m\u001b[1;33m\u001b[0m\u001b[0m\n\u001b[0;32m    602\u001b[0m             \u001b[1;31m# Add key to exclusions\u001b[0m\u001b[1;33m\u001b[0m\u001b[1;33m\u001b[0m\u001b[1;33m\u001b[0m\u001b[0m\n",
      "\u001b[1;31mKeyError\u001b[0m: 'type'"
     ]
    }
   ],
   "source": [
    "# create GroupBy object\n",
    "type_group = school_summary_df.groupby('type')"
   ]
  },
  {
   "cell_type": "code",
   "execution_count": 285,
   "metadata": {},
   "outputs": [
    {
     "ename": "KeyError",
     "evalue": "\"Columns not found: 'Average Reading Score', '% Passing Reading', '% Passing Math', '% Overall Passing', 'Average Math Score'\"",
     "output_type": "error",
     "traceback": [
      "\u001b[1;31m---------------------------------------------------------------------------\u001b[0m",
      "\u001b[1;31mKeyError\u001b[0m                                  Traceback (most recent call last)",
      "\u001b[1;32m<ipython-input-285-a0c2e98a7cd9>\u001b[0m in \u001b[0;36m<module>\u001b[1;34m\u001b[0m\n\u001b[0;32m      1\u001b[0m \u001b[1;31m# calculate averages of the GroupBy object and display\u001b[0m\u001b[1;33m\u001b[0m\u001b[1;33m\u001b[0m\u001b[1;33m\u001b[0m\u001b[0m\n\u001b[1;32m----> 2\u001b[1;33m \u001b[0mtype_group\u001b[0m\u001b[1;33m[\u001b[0m\u001b[1;33m[\u001b[0m\u001b[1;34m\"Average Math Score\"\u001b[0m\u001b[1;33m,\u001b[0m \u001b[1;34m\"Average Reading Score\"\u001b[0m\u001b[1;33m,\u001b[0m \u001b[1;34m\"% Passing Math\"\u001b[0m\u001b[1;33m,\u001b[0m \u001b[1;34m\"% Passing Reading\"\u001b[0m\u001b[1;33m,\u001b[0m \u001b[1;34m\"% Overall Passing\"\u001b[0m\u001b[1;33m]\u001b[0m\u001b[1;33m]\u001b[0m\u001b[1;33m.\u001b[0m\u001b[0mmean\u001b[0m\u001b[1;33m(\u001b[0m\u001b[1;33m)\u001b[0m\u001b[1;33m\u001b[0m\u001b[1;33m\u001b[0m\u001b[0m\n\u001b[0m",
      "\u001b[1;32m~\\anaconda3\\envs\\PythonData\\lib\\site-packages\\pandas\\core\\groupby\\generic.py\u001b[0m in \u001b[0;36m__getitem__\u001b[1;34m(self, key)\u001b[0m\n\u001b[0;32m   1601\u001b[0m                 \u001b[0mstacklevel\u001b[0m\u001b[1;33m=\u001b[0m\u001b[1;36m2\u001b[0m\u001b[1;33m,\u001b[0m\u001b[1;33m\u001b[0m\u001b[1;33m\u001b[0m\u001b[0m\n\u001b[0;32m   1602\u001b[0m             )\n\u001b[1;32m-> 1603\u001b[1;33m         \u001b[1;32mreturn\u001b[0m \u001b[0msuper\u001b[0m\u001b[1;33m(\u001b[0m\u001b[1;33m)\u001b[0m\u001b[1;33m.\u001b[0m\u001b[0m__getitem__\u001b[0m\u001b[1;33m(\u001b[0m\u001b[0mkey\u001b[0m\u001b[1;33m)\u001b[0m\u001b[1;33m\u001b[0m\u001b[1;33m\u001b[0m\u001b[0m\n\u001b[0m\u001b[0;32m   1604\u001b[0m \u001b[1;33m\u001b[0m\u001b[0m\n\u001b[0;32m   1605\u001b[0m     \u001b[1;32mdef\u001b[0m \u001b[0m_gotitem\u001b[0m\u001b[1;33m(\u001b[0m\u001b[0mself\u001b[0m\u001b[1;33m,\u001b[0m \u001b[0mkey\u001b[0m\u001b[1;33m,\u001b[0m \u001b[0mndim\u001b[0m\u001b[1;33m:\u001b[0m \u001b[0mint\u001b[0m\u001b[1;33m,\u001b[0m \u001b[0msubset\u001b[0m\u001b[1;33m=\u001b[0m\u001b[1;32mNone\u001b[0m\u001b[1;33m)\u001b[0m\u001b[1;33m:\u001b[0m\u001b[1;33m\u001b[0m\u001b[1;33m\u001b[0m\u001b[0m\n",
      "\u001b[1;32m~\\anaconda3\\envs\\PythonData\\lib\\site-packages\\pandas\\core\\base.py\u001b[0m in \u001b[0;36m__getitem__\u001b[1;34m(self, key)\u001b[0m\n\u001b[0;32m    218\u001b[0m             \u001b[1;32mif\u001b[0m \u001b[0mlen\u001b[0m\u001b[1;33m(\u001b[0m\u001b[0mself\u001b[0m\u001b[1;33m.\u001b[0m\u001b[0mobj\u001b[0m\u001b[1;33m.\u001b[0m\u001b[0mcolumns\u001b[0m\u001b[1;33m.\u001b[0m\u001b[0mintersection\u001b[0m\u001b[1;33m(\u001b[0m\u001b[0mkey\u001b[0m\u001b[1;33m)\u001b[0m\u001b[1;33m)\u001b[0m \u001b[1;33m!=\u001b[0m \u001b[0mlen\u001b[0m\u001b[1;33m(\u001b[0m\u001b[0mkey\u001b[0m\u001b[1;33m)\u001b[0m\u001b[1;33m:\u001b[0m\u001b[1;33m\u001b[0m\u001b[1;33m\u001b[0m\u001b[0m\n\u001b[0;32m    219\u001b[0m                 \u001b[0mbad_keys\u001b[0m \u001b[1;33m=\u001b[0m \u001b[0mlist\u001b[0m\u001b[1;33m(\u001b[0m\u001b[0mset\u001b[0m\u001b[1;33m(\u001b[0m\u001b[0mkey\u001b[0m\u001b[1;33m)\u001b[0m\u001b[1;33m.\u001b[0m\u001b[0mdifference\u001b[0m\u001b[1;33m(\u001b[0m\u001b[0mself\u001b[0m\u001b[1;33m.\u001b[0m\u001b[0mobj\u001b[0m\u001b[1;33m.\u001b[0m\u001b[0mcolumns\u001b[0m\u001b[1;33m)\u001b[0m\u001b[1;33m)\u001b[0m\u001b[1;33m\u001b[0m\u001b[1;33m\u001b[0m\u001b[0m\n\u001b[1;32m--> 220\u001b[1;33m                 \u001b[1;32mraise\u001b[0m \u001b[0mKeyError\u001b[0m\u001b[1;33m(\u001b[0m\u001b[1;34mf\"Columns not found: {str(bad_keys)[1:-1]}\"\u001b[0m\u001b[1;33m)\u001b[0m\u001b[1;33m\u001b[0m\u001b[1;33m\u001b[0m\u001b[0m\n\u001b[0m\u001b[0;32m    221\u001b[0m             \u001b[1;32mreturn\u001b[0m \u001b[0mself\u001b[0m\u001b[1;33m.\u001b[0m\u001b[0m_gotitem\u001b[0m\u001b[1;33m(\u001b[0m\u001b[0mlist\u001b[0m\u001b[1;33m(\u001b[0m\u001b[0mkey\u001b[0m\u001b[1;33m)\u001b[0m\u001b[1;33m,\u001b[0m \u001b[0mndim\u001b[0m\u001b[1;33m=\u001b[0m\u001b[1;36m2\u001b[0m\u001b[1;33m)\u001b[0m\u001b[1;33m\u001b[0m\u001b[1;33m\u001b[0m\u001b[0m\n\u001b[0;32m    222\u001b[0m \u001b[1;33m\u001b[0m\u001b[0m\n",
      "\u001b[1;31mKeyError\u001b[0m: \"Columns not found: 'Average Reading Score', '% Passing Reading', '% Passing Math', '% Overall Passing', 'Average Math Score'\""
     ]
    }
   ],
   "source": [
    "# calculate averages of the GroupBy object and display \n",
    "type_group[[\"Average Math Score\", \"Average Reading Score\", \"% Passing Math\", \"% Passing Reading\", \"% Overall Passing\"]].mean()"
   ]
  },
  {
   "cell_type": "code",
   "execution_count": null,
   "metadata": {},
   "outputs": [],
   "source": []
  },
  {
   "cell_type": "code",
   "execution_count": null,
   "metadata": {},
   "outputs": [],
   "source": []
  }
 ],
 "metadata": {
  "anaconda-cloud": {},
  "kernel_info": {
   "name": "python3"
  },
  "kernelspec": {
   "display_name": "Python [conda env:PythonData] *",
   "language": "python",
   "name": "conda-env-PythonData-py"
  },
  "language_info": {
   "codemirror_mode": {
    "name": "ipython",
    "version": 3
   },
   "file_extension": ".py",
   "mimetype": "text/x-python",
   "name": "python",
   "nbconvert_exporter": "python",
   "pygments_lexer": "ipython3",
   "version": "3.6.10"
  },
  "latex_envs": {
   "LaTeX_envs_menu_present": true,
   "autoclose": false,
   "autocomplete": true,
   "bibliofile": "biblio.bib",
   "cite_by": "apalike",
   "current_citInitial": 1,
   "eqLabelWithNumbers": true,
   "eqNumInitial": 1,
   "hotkeys": {
    "equation": "Ctrl-E",
    "itemize": "Ctrl-I"
   },
   "labels_anchors": false,
   "latex_user_defs": false,
   "report_style_numbering": false,
   "user_envs_cfg": false
  },
  "nteract": {
   "version": "0.8.4"
  }
 },
 "nbformat": 4,
 "nbformat_minor": 1
}
